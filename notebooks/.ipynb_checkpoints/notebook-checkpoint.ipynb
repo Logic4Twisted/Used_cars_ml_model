{
 "cells": [
  {
   "cell_type": "code",
   "execution_count": 1,
   "metadata": {
    "collapsed": false
   },
   "outputs": [],
   "source": [
    "import numpy as np # linear algebra\n",
    "import pandas as pd # data processing, CSV file I/O (e.g. pd.read_csv)\n",
    "import seaborn as sns # data visualization\n",
    "import matplotlib.pylab as plt\n",
    "% matplotlib inline\n"
   ]
  },
  {
   "cell_type": "markdown",
   "metadata": {},
   "source": [
    "Let's read data into pandas DataFrame and display first 10 rows."
   ]
  },
  {
   "cell_type": "markdown",
   "metadata": {},
   "source": [
    "## Loading data"
   ]
  },
  {
   "cell_type": "code",
   "execution_count": 2,
   "metadata": {
    "collapsed": false,
    "scrolled": true
   },
   "outputs": [
    {
     "data": {
      "text/html": [
       "<div>\n",
       "<table border=\"1\" class=\"dataframe\">\n",
       "  <thead>\n",
       "    <tr style=\"text-align: right;\">\n",
       "      <th></th>\n",
       "      <th>dateCrawled</th>\n",
       "      <th>name</th>\n",
       "      <th>seller</th>\n",
       "      <th>offerType</th>\n",
       "      <th>price</th>\n",
       "      <th>abtest</th>\n",
       "      <th>vehicleType</th>\n",
       "      <th>yearOfRegistration</th>\n",
       "      <th>gearbox</th>\n",
       "      <th>powerPS</th>\n",
       "      <th>model</th>\n",
       "      <th>kilometer</th>\n",
       "      <th>monthOfRegistration</th>\n",
       "      <th>fuelType</th>\n",
       "      <th>brand</th>\n",
       "      <th>notRepairedDamage</th>\n",
       "      <th>dateCreated</th>\n",
       "      <th>nrOfPictures</th>\n",
       "      <th>postalCode</th>\n",
       "      <th>lastSeen</th>\n",
       "    </tr>\n",
       "  </thead>\n",
       "  <tbody>\n",
       "    <tr>\n",
       "      <th>0</th>\n",
       "      <td>2016-03-24 11:52:17</td>\n",
       "      <td>Golf_3_1.6</td>\n",
       "      <td>privat</td>\n",
       "      <td>Angebot</td>\n",
       "      <td>480</td>\n",
       "      <td>test</td>\n",
       "      <td>NaN</td>\n",
       "      <td>1993</td>\n",
       "      <td>manuell</td>\n",
       "      <td>0</td>\n",
       "      <td>golf</td>\n",
       "      <td>150000</td>\n",
       "      <td>0</td>\n",
       "      <td>benzin</td>\n",
       "      <td>volkswagen</td>\n",
       "      <td>NaN</td>\n",
       "      <td>2016-03-24 00:00:00</td>\n",
       "      <td>0</td>\n",
       "      <td>70435</td>\n",
       "      <td>2016-04-07 03:16:57</td>\n",
       "    </tr>\n",
       "    <tr>\n",
       "      <th>1</th>\n",
       "      <td>2016-03-24 10:58:45</td>\n",
       "      <td>A5_Sportback_2.7_Tdi</td>\n",
       "      <td>privat</td>\n",
       "      <td>Angebot</td>\n",
       "      <td>18300</td>\n",
       "      <td>test</td>\n",
       "      <td>coupe</td>\n",
       "      <td>2011</td>\n",
       "      <td>manuell</td>\n",
       "      <td>190</td>\n",
       "      <td>NaN</td>\n",
       "      <td>125000</td>\n",
       "      <td>5</td>\n",
       "      <td>diesel</td>\n",
       "      <td>audi</td>\n",
       "      <td>ja</td>\n",
       "      <td>2016-03-24 00:00:00</td>\n",
       "      <td>0</td>\n",
       "      <td>66954</td>\n",
       "      <td>2016-04-07 01:46:50</td>\n",
       "    </tr>\n",
       "    <tr>\n",
       "      <th>2</th>\n",
       "      <td>2016-03-14 12:52:21</td>\n",
       "      <td>Jeep_Grand_Cherokee_\"Overland\"</td>\n",
       "      <td>privat</td>\n",
       "      <td>Angebot</td>\n",
       "      <td>9800</td>\n",
       "      <td>test</td>\n",
       "      <td>suv</td>\n",
       "      <td>2004</td>\n",
       "      <td>automatik</td>\n",
       "      <td>163</td>\n",
       "      <td>grand</td>\n",
       "      <td>125000</td>\n",
       "      <td>8</td>\n",
       "      <td>diesel</td>\n",
       "      <td>jeep</td>\n",
       "      <td>NaN</td>\n",
       "      <td>2016-03-14 00:00:00</td>\n",
       "      <td>0</td>\n",
       "      <td>90480</td>\n",
       "      <td>2016-04-05 12:47:46</td>\n",
       "    </tr>\n",
       "    <tr>\n",
       "      <th>3</th>\n",
       "      <td>2016-03-17 16:54:04</td>\n",
       "      <td>GOLF_4_1_4__3TÜRER</td>\n",
       "      <td>privat</td>\n",
       "      <td>Angebot</td>\n",
       "      <td>1500</td>\n",
       "      <td>test</td>\n",
       "      <td>kleinwagen</td>\n",
       "      <td>2001</td>\n",
       "      <td>manuell</td>\n",
       "      <td>75</td>\n",
       "      <td>golf</td>\n",
       "      <td>150000</td>\n",
       "      <td>6</td>\n",
       "      <td>benzin</td>\n",
       "      <td>volkswagen</td>\n",
       "      <td>nein</td>\n",
       "      <td>2016-03-17 00:00:00</td>\n",
       "      <td>0</td>\n",
       "      <td>91074</td>\n",
       "      <td>2016-03-17 17:40:17</td>\n",
       "    </tr>\n",
       "    <tr>\n",
       "      <th>4</th>\n",
       "      <td>2016-03-31 17:25:20</td>\n",
       "      <td>Skoda_Fabia_1.4_TDI_PD_Classic</td>\n",
       "      <td>privat</td>\n",
       "      <td>Angebot</td>\n",
       "      <td>3600</td>\n",
       "      <td>test</td>\n",
       "      <td>kleinwagen</td>\n",
       "      <td>2008</td>\n",
       "      <td>manuell</td>\n",
       "      <td>69</td>\n",
       "      <td>fabia</td>\n",
       "      <td>90000</td>\n",
       "      <td>7</td>\n",
       "      <td>diesel</td>\n",
       "      <td>skoda</td>\n",
       "      <td>nein</td>\n",
       "      <td>2016-03-31 00:00:00</td>\n",
       "      <td>0</td>\n",
       "      <td>60437</td>\n",
       "      <td>2016-04-06 10:17:21</td>\n",
       "    </tr>\n",
       "    <tr>\n",
       "      <th>5</th>\n",
       "      <td>2016-04-04 17:36:23</td>\n",
       "      <td>BMW_316i___e36_Limousine___Bastlerfahrzeug__Ex...</td>\n",
       "      <td>privat</td>\n",
       "      <td>Angebot</td>\n",
       "      <td>650</td>\n",
       "      <td>test</td>\n",
       "      <td>limousine</td>\n",
       "      <td>1995</td>\n",
       "      <td>manuell</td>\n",
       "      <td>102</td>\n",
       "      <td>3er</td>\n",
       "      <td>150000</td>\n",
       "      <td>10</td>\n",
       "      <td>benzin</td>\n",
       "      <td>bmw</td>\n",
       "      <td>ja</td>\n",
       "      <td>2016-04-04 00:00:00</td>\n",
       "      <td>0</td>\n",
       "      <td>33775</td>\n",
       "      <td>2016-04-06 19:17:07</td>\n",
       "    </tr>\n",
       "    <tr>\n",
       "      <th>6</th>\n",
       "      <td>2016-04-01 20:48:51</td>\n",
       "      <td>Peugeot_206_CC_110_Platinum</td>\n",
       "      <td>privat</td>\n",
       "      <td>Angebot</td>\n",
       "      <td>2200</td>\n",
       "      <td>test</td>\n",
       "      <td>cabrio</td>\n",
       "      <td>2004</td>\n",
       "      <td>manuell</td>\n",
       "      <td>109</td>\n",
       "      <td>2_reihe</td>\n",
       "      <td>150000</td>\n",
       "      <td>8</td>\n",
       "      <td>benzin</td>\n",
       "      <td>peugeot</td>\n",
       "      <td>nein</td>\n",
       "      <td>2016-04-01 00:00:00</td>\n",
       "      <td>0</td>\n",
       "      <td>67112</td>\n",
       "      <td>2016-04-05 18:18:39</td>\n",
       "    </tr>\n",
       "    <tr>\n",
       "      <th>7</th>\n",
       "      <td>2016-03-21 18:54:38</td>\n",
       "      <td>VW_Derby_Bj_80__Scheunenfund</td>\n",
       "      <td>privat</td>\n",
       "      <td>Angebot</td>\n",
       "      <td>0</td>\n",
       "      <td>test</td>\n",
       "      <td>limousine</td>\n",
       "      <td>1980</td>\n",
       "      <td>manuell</td>\n",
       "      <td>50</td>\n",
       "      <td>andere</td>\n",
       "      <td>40000</td>\n",
       "      <td>7</td>\n",
       "      <td>benzin</td>\n",
       "      <td>volkswagen</td>\n",
       "      <td>nein</td>\n",
       "      <td>2016-03-21 00:00:00</td>\n",
       "      <td>0</td>\n",
       "      <td>19348</td>\n",
       "      <td>2016-03-25 16:47:58</td>\n",
       "    </tr>\n",
       "    <tr>\n",
       "      <th>8</th>\n",
       "      <td>2016-04-04 23:42:13</td>\n",
       "      <td>Ford_C___Max_Titanium_1_0_L_EcoBoost</td>\n",
       "      <td>privat</td>\n",
       "      <td>Angebot</td>\n",
       "      <td>14500</td>\n",
       "      <td>control</td>\n",
       "      <td>bus</td>\n",
       "      <td>2014</td>\n",
       "      <td>manuell</td>\n",
       "      <td>125</td>\n",
       "      <td>c_max</td>\n",
       "      <td>30000</td>\n",
       "      <td>8</td>\n",
       "      <td>benzin</td>\n",
       "      <td>ford</td>\n",
       "      <td>NaN</td>\n",
       "      <td>2016-04-04 00:00:00</td>\n",
       "      <td>0</td>\n",
       "      <td>94505</td>\n",
       "      <td>2016-04-04 23:42:13</td>\n",
       "    </tr>\n",
       "    <tr>\n",
       "      <th>9</th>\n",
       "      <td>2016-03-17 10:53:50</td>\n",
       "      <td>VW_Golf_4_5_tuerig_zu_verkaufen_mit_Anhaengerk...</td>\n",
       "      <td>privat</td>\n",
       "      <td>Angebot</td>\n",
       "      <td>999</td>\n",
       "      <td>test</td>\n",
       "      <td>kleinwagen</td>\n",
       "      <td>1998</td>\n",
       "      <td>manuell</td>\n",
       "      <td>101</td>\n",
       "      <td>golf</td>\n",
       "      <td>150000</td>\n",
       "      <td>0</td>\n",
       "      <td>NaN</td>\n",
       "      <td>volkswagen</td>\n",
       "      <td>NaN</td>\n",
       "      <td>2016-03-17 00:00:00</td>\n",
       "      <td>0</td>\n",
       "      <td>27472</td>\n",
       "      <td>2016-03-31 17:17:06</td>\n",
       "    </tr>\n",
       "  </tbody>\n",
       "</table>\n",
       "</div>"
      ],
      "text/plain": [
       "           dateCrawled                                               name  \\\n",
       "0  2016-03-24 11:52:17                                         Golf_3_1.6   \n",
       "1  2016-03-24 10:58:45                               A5_Sportback_2.7_Tdi   \n",
       "2  2016-03-14 12:52:21                     Jeep_Grand_Cherokee_\"Overland\"   \n",
       "3  2016-03-17 16:54:04                                 GOLF_4_1_4__3TÜRER   \n",
       "4  2016-03-31 17:25:20                     Skoda_Fabia_1.4_TDI_PD_Classic   \n",
       "5  2016-04-04 17:36:23  BMW_316i___e36_Limousine___Bastlerfahrzeug__Ex...   \n",
       "6  2016-04-01 20:48:51                        Peugeot_206_CC_110_Platinum   \n",
       "7  2016-03-21 18:54:38                       VW_Derby_Bj_80__Scheunenfund   \n",
       "8  2016-04-04 23:42:13               Ford_C___Max_Titanium_1_0_L_EcoBoost   \n",
       "9  2016-03-17 10:53:50  VW_Golf_4_5_tuerig_zu_verkaufen_mit_Anhaengerk...   \n",
       "\n",
       "   seller offerType  price   abtest vehicleType  yearOfRegistration  \\\n",
       "0  privat   Angebot    480     test         NaN                1993   \n",
       "1  privat   Angebot  18300     test       coupe                2011   \n",
       "2  privat   Angebot   9800     test         suv                2004   \n",
       "3  privat   Angebot   1500     test  kleinwagen                2001   \n",
       "4  privat   Angebot   3600     test  kleinwagen                2008   \n",
       "5  privat   Angebot    650     test   limousine                1995   \n",
       "6  privat   Angebot   2200     test      cabrio                2004   \n",
       "7  privat   Angebot      0     test   limousine                1980   \n",
       "8  privat   Angebot  14500  control         bus                2014   \n",
       "9  privat   Angebot    999     test  kleinwagen                1998   \n",
       "\n",
       "     gearbox  powerPS    model  kilometer  monthOfRegistration fuelType  \\\n",
       "0    manuell        0     golf     150000                    0   benzin   \n",
       "1    manuell      190      NaN     125000                    5   diesel   \n",
       "2  automatik      163    grand     125000                    8   diesel   \n",
       "3    manuell       75     golf     150000                    6   benzin   \n",
       "4    manuell       69    fabia      90000                    7   diesel   \n",
       "5    manuell      102      3er     150000                   10   benzin   \n",
       "6    manuell      109  2_reihe     150000                    8   benzin   \n",
       "7    manuell       50   andere      40000                    7   benzin   \n",
       "8    manuell      125    c_max      30000                    8   benzin   \n",
       "9    manuell      101     golf     150000                    0      NaN   \n",
       "\n",
       "        brand notRepairedDamage          dateCreated  nrOfPictures  \\\n",
       "0  volkswagen               NaN  2016-03-24 00:00:00             0   \n",
       "1        audi                ja  2016-03-24 00:00:00             0   \n",
       "2        jeep               NaN  2016-03-14 00:00:00             0   \n",
       "3  volkswagen              nein  2016-03-17 00:00:00             0   \n",
       "4       skoda              nein  2016-03-31 00:00:00             0   \n",
       "5         bmw                ja  2016-04-04 00:00:00             0   \n",
       "6     peugeot              nein  2016-04-01 00:00:00             0   \n",
       "7  volkswagen              nein  2016-03-21 00:00:00             0   \n",
       "8        ford               NaN  2016-04-04 00:00:00             0   \n",
       "9  volkswagen               NaN  2016-03-17 00:00:00             0   \n",
       "\n",
       "   postalCode             lastSeen  \n",
       "0       70435  2016-04-07 03:16:57  \n",
       "1       66954  2016-04-07 01:46:50  \n",
       "2       90480  2016-04-05 12:47:46  \n",
       "3       91074  2016-03-17 17:40:17  \n",
       "4       60437  2016-04-06 10:17:21  \n",
       "5       33775  2016-04-06 19:17:07  \n",
       "6       67112  2016-04-05 18:18:39  \n",
       "7       19348  2016-03-25 16:47:58  \n",
       "8       94505  2016-04-04 23:42:13  \n",
       "9       27472  2016-03-31 17:17:06  "
      ]
     },
     "execution_count": 2,
     "metadata": {},
     "output_type": "execute_result"
    }
   ],
   "source": [
    "data=pd.read_csv('../input/autos.csv', encoding='latin_1')\n",
    "data.head(10)"
   ]
  },
  {
   "cell_type": "code",
   "execution_count": 3,
   "metadata": {
    "collapsed": false
   },
   "outputs": [
    {
     "name": "stdout",
     "output_type": "stream",
     "text": [
      "There are  371528  cars in the data set\n"
     ]
    }
   ],
   "source": [
    "print \"There are \", data.shape[0], \" cars in the data set\""
   ]
  },
  {
   "cell_type": "markdown",
   "metadata": {},
   "source": [
    "## Data exploration and exploratory visualization"
   ]
  },
  {
   "cell_type": "markdown",
   "metadata": {},
   "source": [
    "Let's check rows with null values by column."
   ]
  },
  {
   "cell_type": "code",
   "execution_count": 4,
   "metadata": {
    "collapsed": false
   },
   "outputs": [
    {
     "data": {
      "text/plain": [
       "dateCrawled                0\n",
       "name                       0\n",
       "seller                     0\n",
       "offerType                  0\n",
       "price                      0\n",
       "abtest                     0\n",
       "vehicleType            37869\n",
       "yearOfRegistration         0\n",
       "gearbox                20209\n",
       "powerPS                    0\n",
       "model                  20484\n",
       "kilometer                  0\n",
       "monthOfRegistration        0\n",
       "fuelType               33386\n",
       "brand                      0\n",
       "notRepairedDamage      72060\n",
       "dateCreated                0\n",
       "nrOfPictures               0\n",
       "postalCode                 0\n",
       "lastSeen                   0\n",
       "dtype: int64"
      ]
     },
     "execution_count": 4,
     "metadata": {},
     "output_type": "execute_result"
    }
   ],
   "source": [
    "data.isnull().sum()"
   ]
  },
  {
   "cell_type": "markdown",
   "metadata": {},
   "source": [
    "Let's display statistics for numberical fields"
   ]
  },
  {
   "cell_type": "code",
   "execution_count": 5,
   "metadata": {
    "collapsed": false
   },
   "outputs": [
    {
     "data": {
      "text/html": [
       "<div>\n",
       "<table border=\"1\" class=\"dataframe\">\n",
       "  <thead>\n",
       "    <tr style=\"text-align: right;\">\n",
       "      <th></th>\n",
       "      <th>price</th>\n",
       "      <th>yearOfRegistration</th>\n",
       "      <th>powerPS</th>\n",
       "      <th>kilometer</th>\n",
       "      <th>monthOfRegistration</th>\n",
       "      <th>nrOfPictures</th>\n",
       "      <th>postalCode</th>\n",
       "    </tr>\n",
       "  </thead>\n",
       "  <tbody>\n",
       "    <tr>\n",
       "      <th>count</th>\n",
       "      <td>3.715280e+05</td>\n",
       "      <td>371528.000000</td>\n",
       "      <td>371528.000000</td>\n",
       "      <td>371528.000000</td>\n",
       "      <td>371528.000000</td>\n",
       "      <td>371528.0</td>\n",
       "      <td>371528.00000</td>\n",
       "    </tr>\n",
       "    <tr>\n",
       "      <th>mean</th>\n",
       "      <td>1.729514e+04</td>\n",
       "      <td>2004.577997</td>\n",
       "      <td>115.549477</td>\n",
       "      <td>125618.688228</td>\n",
       "      <td>5.734445</td>\n",
       "      <td>0.0</td>\n",
       "      <td>50820.66764</td>\n",
       "    </tr>\n",
       "    <tr>\n",
       "      <th>std</th>\n",
       "      <td>3.587954e+06</td>\n",
       "      <td>92.866598</td>\n",
       "      <td>192.139578</td>\n",
       "      <td>40112.337051</td>\n",
       "      <td>3.712412</td>\n",
       "      <td>0.0</td>\n",
       "      <td>25799.08247</td>\n",
       "    </tr>\n",
       "    <tr>\n",
       "      <th>min</th>\n",
       "      <td>0.000000e+00</td>\n",
       "      <td>1000.000000</td>\n",
       "      <td>0.000000</td>\n",
       "      <td>5000.000000</td>\n",
       "      <td>0.000000</td>\n",
       "      <td>0.0</td>\n",
       "      <td>1067.00000</td>\n",
       "    </tr>\n",
       "    <tr>\n",
       "      <th>25%</th>\n",
       "      <td>1.150000e+03</td>\n",
       "      <td>1999.000000</td>\n",
       "      <td>70.000000</td>\n",
       "      <td>125000.000000</td>\n",
       "      <td>3.000000</td>\n",
       "      <td>0.0</td>\n",
       "      <td>30459.00000</td>\n",
       "    </tr>\n",
       "    <tr>\n",
       "      <th>50%</th>\n",
       "      <td>2.950000e+03</td>\n",
       "      <td>2003.000000</td>\n",
       "      <td>105.000000</td>\n",
       "      <td>150000.000000</td>\n",
       "      <td>6.000000</td>\n",
       "      <td>0.0</td>\n",
       "      <td>49610.00000</td>\n",
       "    </tr>\n",
       "    <tr>\n",
       "      <th>75%</th>\n",
       "      <td>7.200000e+03</td>\n",
       "      <td>2008.000000</td>\n",
       "      <td>150.000000</td>\n",
       "      <td>150000.000000</td>\n",
       "      <td>9.000000</td>\n",
       "      <td>0.0</td>\n",
       "      <td>71546.00000</td>\n",
       "    </tr>\n",
       "    <tr>\n",
       "      <th>max</th>\n",
       "      <td>2.147484e+09</td>\n",
       "      <td>9999.000000</td>\n",
       "      <td>20000.000000</td>\n",
       "      <td>150000.000000</td>\n",
       "      <td>12.000000</td>\n",
       "      <td>0.0</td>\n",
       "      <td>99998.00000</td>\n",
       "    </tr>\n",
       "  </tbody>\n",
       "</table>\n",
       "</div>"
      ],
      "text/plain": [
       "              price  yearOfRegistration        powerPS      kilometer  \\\n",
       "count  3.715280e+05       371528.000000  371528.000000  371528.000000   \n",
       "mean   1.729514e+04         2004.577997     115.549477  125618.688228   \n",
       "std    3.587954e+06           92.866598     192.139578   40112.337051   \n",
       "min    0.000000e+00         1000.000000       0.000000    5000.000000   \n",
       "25%    1.150000e+03         1999.000000      70.000000  125000.000000   \n",
       "50%    2.950000e+03         2003.000000     105.000000  150000.000000   \n",
       "75%    7.200000e+03         2008.000000     150.000000  150000.000000   \n",
       "max    2.147484e+09         9999.000000   20000.000000  150000.000000   \n",
       "\n",
       "       monthOfRegistration  nrOfPictures    postalCode  \n",
       "count        371528.000000      371528.0  371528.00000  \n",
       "mean              5.734445           0.0   50820.66764  \n",
       "std               3.712412           0.0   25799.08247  \n",
       "min               0.000000           0.0    1067.00000  \n",
       "25%               3.000000           0.0   30459.00000  \n",
       "50%               6.000000           0.0   49610.00000  \n",
       "75%               9.000000           0.0   71546.00000  \n",
       "max              12.000000           0.0   99998.00000  "
      ]
     },
     "execution_count": 5,
     "metadata": {},
     "output_type": "execute_result"
    }
   ],
   "source": [
    "data.describe()"
   ]
  },
  {
   "cell_type": "code",
   "execution_count": 6,
   "metadata": {
    "collapsed": false
   },
   "outputs": [
    {
     "data": {
      "text/html": [
       "<div>\n",
       "<table border=\"1\" class=\"dataframe\">\n",
       "  <thead>\n",
       "    <tr style=\"text-align: right;\">\n",
       "      <th></th>\n",
       "      <th>price</th>\n",
       "      <th>yearOfRegistration</th>\n",
       "      <th>powerPS</th>\n",
       "    </tr>\n",
       "  </thead>\n",
       "  <tbody>\n",
       "    <tr>\n",
       "      <th>0.05</th>\n",
       "      <td>200.0</td>\n",
       "      <td>1992.0</td>\n",
       "      <td>0.0</td>\n",
       "    </tr>\n",
       "    <tr>\n",
       "      <th>0.95</th>\n",
       "      <td>19790.0</td>\n",
       "      <td>2016.0</td>\n",
       "      <td>231.0</td>\n",
       "    </tr>\n",
       "  </tbody>\n",
       "</table>\n",
       "</div>"
      ],
      "text/plain": [
       "        price  yearOfRegistration  powerPS\n",
       "0.05    200.0              1992.0      0.0\n",
       "0.95  19790.0              2016.0    231.0"
      ]
     },
     "execution_count": 6,
     "metadata": {},
     "output_type": "execute_result"
    }
   ],
   "source": [
    "data[['price', 'yearOfRegistration', 'powerPS']].quantile([.05, .95])"
   ]
  },
  {
   "cell_type": "markdown",
   "metadata": {},
   "source": [
    "### Cleaning price column"
   ]
  },
  {
   "cell_type": "markdown",
   "metadata": {},
   "source": [
    "Visualization of price column. Prices are put into buckets of size 10000, and displayed."
   ]
  },
  {
   "cell_type": "code",
   "execution_count": 7,
   "metadata": {
    "collapsed": false
   },
   "outputs": [
    {
     "data": {
      "image/png": "[encoded data removed]",
      "text/plain": [
       "<matplotlib.figure.Figure at 0x120006410>"
      ]
     },
     "metadata": {},
     "output_type": "display_data"
    }
   ],
   "source": [
    "data[data.price <= 50000].hist(column='price', bins = 100)\n",
    "plt.title(\"Distribution of prices\")\n",
    "plt.show()"
   ]
  },
  {
   "cell_type": "markdown",
   "metadata": {},
   "source": [
    "We can see that mayority of prices are in 0 - 50000 range. Examples with price below 100 are discarded as they can be result of a mistake in using web site."
   ]
  },
  {
   "cell_type": "code",
   "execution_count": 8,
   "metadata": {
    "collapsed": false
   },
   "outputs": [
    {
     "name": "stdout",
     "output_type": "stream",
     "text": [
      "0.42 % of prices is over 50000\n",
      "3.59 % of prices less than 100\n"
     ]
    }
   ],
   "source": [
    "print '{0:.2f}'.format((data.shape[0]-data[data.price <= 50000].shape[0])*100.0 / data.shape[0]), \"% of prices is over 50000\"\n",
    "print '{0:.2f}'.format(data[data.price < 100].shape[0]*100.0 / data.shape[0]),\"% of prices less than 100\""
   ]
  },
  {
   "cell_type": "markdown",
   "metadata": {},
   "source": [
    "Let's drop these outliers from data set."
   ]
  },
  {
   "cell_type": "code",
   "execution_count": 9,
   "metadata": {
    "collapsed": false
   },
   "outputs": [],
   "source": [
    "data = data[(data.price >= 100) & (data.price <= 50000)]"
   ]
  },
  {
   "cell_type": "markdown",
   "metadata": {},
   "source": [
    "### Cleaning year of registration"
   ]
  },
  {
   "cell_type": "markdown",
   "metadata": {},
   "source": [
    "Visualizing year of registration column."
   ]
  },
  {
   "cell_type": "code",
   "execution_count": 10,
   "metadata": {
    "collapsed": false
   },
   "outputs": [
    {
     "data": {
      "image/png": "[encoded data removed]",
      "text/plain": [
       "<matplotlib.figure.Figure at 0x10a41ad10>"
      ]
     },
     "metadata": {},
     "output_type": "display_data"
    }
   ],
   "source": [
    "data[(data.yearOfRegistration > 1916) & (data.yearOfRegistration <= 2016)].hist(column='yearOfRegistration', bins = 100)\n",
    "plt.show()"
   ]
  },
  {
   "cell_type": "code",
   "execution_count": 11,
   "metadata": {
    "collapsed": false
   },
   "outputs": [
    {
     "name": "stdout",
     "output_type": "stream",
     "text": [
      "96.02 % is in 1960 to 2016 year range\n"
     ]
    }
   ],
   "source": [
    "print '{0:.2f}'.format(data[(data.yearOfRegistration >= 1960) & (data.yearOfRegistration <= 2016)].shape[0]*100.0/data.shape[0]), \"% is in 1960 to 2016 year range\""
   ]
  },
  {
   "cell_type": "markdown",
   "metadata": {},
   "source": [
    "Let's remove outliers"
   ]
  },
  {
   "cell_type": "code",
   "execution_count": 12,
   "metadata": {
    "collapsed": true
   },
   "outputs": [],
   "source": [
    "data = data[(data.yearOfRegistration >= 1960) & (data.yearOfRegistration <= 2016)]"
   ]
  },
  {
   "cell_type": "markdown",
   "metadata": {},
   "source": [
    "### Cleaning powerPS column"
   ]
  },
  {
   "cell_type": "markdown",
   "metadata": {},
   "source": [
    "Visualizing powerPS"
   ]
  },
  {
   "cell_type": "code",
   "execution_count": 13,
   "metadata": {
    "collapsed": false
   },
   "outputs": [
    {
     "data": {
      "image/png": "[encoded data removed]",
      "text/plain": [
       "<matplotlib.figure.Figure at 0x1042fe710>"
      ]
     },
     "metadata": {},
     "output_type": "display_data"
    }
   ],
   "source": [
    "data[data.powerPS <= 500].hist(column='powerPS', bins = 100)\n",
    "plt.show()"
   ]
  },
  {
   "cell_type": "code",
   "execution_count": 14,
   "metadata": {
    "collapsed": false
   },
   "outputs": [
    {
     "name": "stdout",
     "output_type": "stream",
     "text": [
      "90.45 % is in 10 - 500 power range\n"
     ]
    }
   ],
   "source": [
    "print '{0:.2f}'.format(data[(data.powerPS >= 10) & (data.powerPS <= 500)].shape[0]*100.0/data.shape[0]), \"% is in 10 - 500 power range\""
   ]
  },
  {
   "cell_type": "code",
   "execution_count": 15,
   "metadata": {
    "collapsed": true
   },
   "outputs": [],
   "source": [
    "data = data[(data.powerPS >= 10) & (data.powerPS <= 500)]"
   ]
  },
  {
   "cell_type": "markdown",
   "metadata": {},
   "source": [
    "### Visualizing kilometers"
   ]
  },
  {
   "cell_type": "code",
   "execution_count": 16,
   "metadata": {
    "collapsed": false
   },
   "outputs": [
    {
     "data": {
      "image/png": "[encoded data removed]",
      "text/plain": [
       "<matplotlib.figure.Figure at 0x11615b0d0>"
      ]
     },
     "metadata": {},
     "output_type": "display_data"
    }
   ],
   "source": [
    "data.hist(column='kilometer', bins = 100)\n",
    "plt.show()"
   ]
  },
  {
   "cell_type": "markdown",
   "metadata": {},
   "source": [
    "We can observe that cars are mainly sold after 150000 kilometer used."
   ]
  },
  {
   "cell_type": "markdown",
   "metadata": {},
   "source": [
    "### Visualizing month of registration"
   ]
  },
  {
   "cell_type": "code",
   "execution_count": 17,
   "metadata": {
    "collapsed": false
   },
   "outputs": [
    {
     "data": {
      "image/png": "[encoded data removed]",
      "text/plain": [
       "<matplotlib.figure.Figure at 0x1161322d0>"
      ]
     },
     "metadata": {},
     "output_type": "display_data"
    }
   ],
   "source": [
    "data.hist(column='monthOfRegistration')\n",
    "plt.show()"
   ]
  },
  {
   "cell_type": "markdown",
   "metadata": {},
   "source": [
    "Interestingly, July is the month with most registrations, followed by December and January."
   ]
  },
  {
   "cell_type": "markdown",
   "metadata": {},
   "source": [
    "### Droping some unusable features"
   ]
  },
  {
   "cell_type": "markdown",
   "metadata": {},
   "source": [
    "Columns \"dataCrawled\", \"name\", \"dateCreated\", \"nrOfPictures\", \"postalCode\" and \"lastSeenOnline\" are not usable for predicting price of the car so they will be droped. \"abtest\" feature is also dropped as it is no clear what it really means."
   ]
  },
  {
   "cell_type": "code",
   "execution_count": 18,
   "metadata": {
    "collapsed": false
   },
   "outputs": [
    {
     "data": {
      "text/html": [
       "<div>\n",
       "<table border=\"1\" class=\"dataframe\">\n",
       "  <thead>\n",
       "    <tr style=\"text-align: right;\">\n",
       "      <th></th>\n",
       "      <th>seller</th>\n",
       "      <th>offerType</th>\n",
       "      <th>price</th>\n",
       "      <th>abtest</th>\n",
       "      <th>vehicleType</th>\n",
       "      <th>yearOfRegistration</th>\n",
       "      <th>gearbox</th>\n",
       "      <th>powerPS</th>\n",
       "      <th>model</th>\n",
       "      <th>kilometer</th>\n",
       "      <th>monthOfRegistration</th>\n",
       "      <th>fuelType</th>\n",
       "      <th>brand</th>\n",
       "      <th>notRepairedDamage</th>\n",
       "    </tr>\n",
       "  </thead>\n",
       "  <tbody>\n",
       "    <tr>\n",
       "      <th>1</th>\n",
       "      <td>privat</td>\n",
       "      <td>Angebot</td>\n",
       "      <td>18300</td>\n",
       "      <td>test</td>\n",
       "      <td>coupe</td>\n",
       "      <td>2011</td>\n",
       "      <td>manuell</td>\n",
       "      <td>190</td>\n",
       "      <td>NaN</td>\n",
       "      <td>125000</td>\n",
       "      <td>5</td>\n",
       "      <td>diesel</td>\n",
       "      <td>audi</td>\n",
       "      <td>ja</td>\n",
       "    </tr>\n",
       "    <tr>\n",
       "      <th>2</th>\n",
       "      <td>privat</td>\n",
       "      <td>Angebot</td>\n",
       "      <td>9800</td>\n",
       "      <td>test</td>\n",
       "      <td>suv</td>\n",
       "      <td>2004</td>\n",
       "      <td>automatik</td>\n",
       "      <td>163</td>\n",
       "      <td>grand</td>\n",
       "      <td>125000</td>\n",
       "      <td>8</td>\n",
       "      <td>diesel</td>\n",
       "      <td>jeep</td>\n",
       "      <td>NaN</td>\n",
       "    </tr>\n",
       "    <tr>\n",
       "      <th>3</th>\n",
       "      <td>privat</td>\n",
       "      <td>Angebot</td>\n",
       "      <td>1500</td>\n",
       "      <td>test</td>\n",
       "      <td>kleinwagen</td>\n",
       "      <td>2001</td>\n",
       "      <td>manuell</td>\n",
       "      <td>75</td>\n",
       "      <td>golf</td>\n",
       "      <td>150000</td>\n",
       "      <td>6</td>\n",
       "      <td>benzin</td>\n",
       "      <td>volkswagen</td>\n",
       "      <td>nein</td>\n",
       "    </tr>\n",
       "    <tr>\n",
       "      <th>4</th>\n",
       "      <td>privat</td>\n",
       "      <td>Angebot</td>\n",
       "      <td>3600</td>\n",
       "      <td>test</td>\n",
       "      <td>kleinwagen</td>\n",
       "      <td>2008</td>\n",
       "      <td>manuell</td>\n",
       "      <td>69</td>\n",
       "      <td>fabia</td>\n",
       "      <td>90000</td>\n",
       "      <td>7</td>\n",
       "      <td>diesel</td>\n",
       "      <td>skoda</td>\n",
       "      <td>nein</td>\n",
       "    </tr>\n",
       "    <tr>\n",
       "      <th>5</th>\n",
       "      <td>privat</td>\n",
       "      <td>Angebot</td>\n",
       "      <td>650</td>\n",
       "      <td>test</td>\n",
       "      <td>limousine</td>\n",
       "      <td>1995</td>\n",
       "      <td>manuell</td>\n",
       "      <td>102</td>\n",
       "      <td>3er</td>\n",
       "      <td>150000</td>\n",
       "      <td>10</td>\n",
       "      <td>benzin</td>\n",
       "      <td>bmw</td>\n",
       "      <td>ja</td>\n",
       "    </tr>\n",
       "  </tbody>\n",
       "</table>\n",
       "</div>"
      ],
      "text/plain": [
       "   seller offerType  price abtest vehicleType  yearOfRegistration    gearbox  \\\n",
       "1  privat   Angebot  18300   test       coupe                2011    manuell   \n",
       "2  privat   Angebot   9800   test         suv                2004  automatik   \n",
       "3  privat   Angebot   1500   test  kleinwagen                2001    manuell   \n",
       "4  privat   Angebot   3600   test  kleinwagen                2008    manuell   \n",
       "5  privat   Angebot    650   test   limousine                1995    manuell   \n",
       "\n",
       "   powerPS  model  kilometer  monthOfRegistration fuelType       brand  \\\n",
       "1      190    NaN     125000                    5   diesel        audi   \n",
       "2      163  grand     125000                    8   diesel        jeep   \n",
       "3       75   golf     150000                    6   benzin  volkswagen   \n",
       "4       69  fabia      90000                    7   diesel       skoda   \n",
       "5      102    3er     150000                   10   benzin         bmw   \n",
       "\n",
       "  notRepairedDamage  \n",
       "1                ja  \n",
       "2               NaN  \n",
       "3              nein  \n",
       "4              nein  \n",
       "5                ja  "
      ]
     },
     "execution_count": 18,
     "metadata": {},
     "output_type": "execute_result"
    }
   ],
   "source": [
    "data.drop(['dateCrawled', 'name', 'dateCreated', 'nrOfPictures', 'postalCode', 'lastSeen'], axis='columns', inplace=True)\n",
    "data.head()"
   ]
  },
  {
   "cell_type": "markdown",
   "metadata": {},
   "source": [
    "Now, statistics of missing values in rows look like this :"
   ]
  },
  {
   "cell_type": "code",
   "execution_count": 19,
   "metadata": {
    "collapsed": false
   },
   "outputs": [
    {
     "data": {
      "text/plain": [
       "seller                     0\n",
       "offerType                  0\n",
       "price                      0\n",
       "abtest                     0\n",
       "vehicleType            10911\n",
       "yearOfRegistration         0\n",
       "gearbox                 5328\n",
       "powerPS                    0\n",
       "model                  11289\n",
       "kilometer                  0\n",
       "monthOfRegistration        0\n",
       "fuelType               15466\n",
       "brand                      0\n",
       "notRepairedDamage      43011\n",
       "dtype: int64"
      ]
     },
     "execution_count": 19,
     "metadata": {},
     "output_type": "execute_result"
    }
   ],
   "source": [
    "data.isnull().sum()"
   ]
  },
  {
   "cell_type": "markdown",
   "metadata": {},
   "source": [
    "Here we have to make same decisions. For some data points feature values are missing and these features can have considerable impact on price. Other are not so and should be droped. We should not drop too many rows as that would deminish our data set.\n",
    "Vehicle type is important feature in predicting price and rows without it should be droped. The same is true for gearbox, model and fuelType. NotRepairedDamage feature is important but we have too many data points with missing values so good practice is to set these missing values to special value 'not-specified'.\n"
   ]
  },
  {
   "cell_type": "code",
   "execution_count": 20,
   "metadata": {
    "collapsed": false
   },
   "outputs": [
    {
     "name": "stdout",
     "output_type": "stream",
     "text": [
      "Before: 309742\n",
      "After: 276822\n"
     ]
    },
    {
     "data": {
      "text/html": [
       "<div>\n",
       "<table border=\"1\" class=\"dataframe\">\n",
       "  <thead>\n",
       "    <tr style=\"text-align: right;\">\n",
       "      <th></th>\n",
       "      <th>seller</th>\n",
       "      <th>offerType</th>\n",
       "      <th>price</th>\n",
       "      <th>abtest</th>\n",
       "      <th>vehicleType</th>\n",
       "      <th>yearOfRegistration</th>\n",
       "      <th>gearbox</th>\n",
       "      <th>powerPS</th>\n",
       "      <th>model</th>\n",
       "      <th>kilometer</th>\n",
       "      <th>monthOfRegistration</th>\n",
       "      <th>fuelType</th>\n",
       "      <th>brand</th>\n",
       "      <th>notRepairedDamage</th>\n",
       "    </tr>\n",
       "  </thead>\n",
       "  <tbody>\n",
       "    <tr>\n",
       "      <th>2</th>\n",
       "      <td>privat</td>\n",
       "      <td>Angebot</td>\n",
       "      <td>9800</td>\n",
       "      <td>test</td>\n",
       "      <td>suv</td>\n",
       "      <td>2004</td>\n",
       "      <td>automatik</td>\n",
       "      <td>163</td>\n",
       "      <td>grand</td>\n",
       "      <td>125000</td>\n",
       "      <td>8</td>\n",
       "      <td>diesel</td>\n",
       "      <td>jeep</td>\n",
       "      <td>not-specified</td>\n",
       "    </tr>\n",
       "    <tr>\n",
       "      <th>3</th>\n",
       "      <td>privat</td>\n",
       "      <td>Angebot</td>\n",
       "      <td>1500</td>\n",
       "      <td>test</td>\n",
       "      <td>kleinwagen</td>\n",
       "      <td>2001</td>\n",
       "      <td>manuell</td>\n",
       "      <td>75</td>\n",
       "      <td>golf</td>\n",
       "      <td>150000</td>\n",
       "      <td>6</td>\n",
       "      <td>benzin</td>\n",
       "      <td>volkswagen</td>\n",
       "      <td>nein</td>\n",
       "    </tr>\n",
       "    <tr>\n",
       "      <th>4</th>\n",
       "      <td>privat</td>\n",
       "      <td>Angebot</td>\n",
       "      <td>3600</td>\n",
       "      <td>test</td>\n",
       "      <td>kleinwagen</td>\n",
       "      <td>2008</td>\n",
       "      <td>manuell</td>\n",
       "      <td>69</td>\n",
       "      <td>fabia</td>\n",
       "      <td>90000</td>\n",
       "      <td>7</td>\n",
       "      <td>diesel</td>\n",
       "      <td>skoda</td>\n",
       "      <td>nein</td>\n",
       "    </tr>\n",
       "    <tr>\n",
       "      <th>5</th>\n",
       "      <td>privat</td>\n",
       "      <td>Angebot</td>\n",
       "      <td>650</td>\n",
       "      <td>test</td>\n",
       "      <td>limousine</td>\n",
       "      <td>1995</td>\n",
       "      <td>manuell</td>\n",
       "      <td>102</td>\n",
       "      <td>3er</td>\n",
       "      <td>150000</td>\n",
       "      <td>10</td>\n",
       "      <td>benzin</td>\n",
       "      <td>bmw</td>\n",
       "      <td>ja</td>\n",
       "    </tr>\n",
       "    <tr>\n",
       "      <th>6</th>\n",
       "      <td>privat</td>\n",
       "      <td>Angebot</td>\n",
       "      <td>2200</td>\n",
       "      <td>test</td>\n",
       "      <td>cabrio</td>\n",
       "      <td>2004</td>\n",
       "      <td>manuell</td>\n",
       "      <td>109</td>\n",
       "      <td>2_reihe</td>\n",
       "      <td>150000</td>\n",
       "      <td>8</td>\n",
       "      <td>benzin</td>\n",
       "      <td>peugeot</td>\n",
       "      <td>nein</td>\n",
       "    </tr>\n",
       "  </tbody>\n",
       "</table>\n",
       "</div>"
      ],
      "text/plain": [
       "   seller offerType  price abtest vehicleType  yearOfRegistration    gearbox  \\\n",
       "2  privat   Angebot   9800   test         suv                2004  automatik   \n",
       "3  privat   Angebot   1500   test  kleinwagen                2001    manuell   \n",
       "4  privat   Angebot   3600   test  kleinwagen                2008    manuell   \n",
       "5  privat   Angebot    650   test   limousine                1995    manuell   \n",
       "6  privat   Angebot   2200   test      cabrio                2004    manuell   \n",
       "\n",
       "   powerPS    model  kilometer  monthOfRegistration fuelType       brand  \\\n",
       "2      163    grand     125000                    8   diesel        jeep   \n",
       "3       75     golf     150000                    6   benzin  volkswagen   \n",
       "4       69    fabia      90000                    7   diesel       skoda   \n",
       "5      102      3er     150000                   10   benzin         bmw   \n",
       "6      109  2_reihe     150000                    8   benzin     peugeot   \n",
       "\n",
       "  notRepairedDamage  \n",
       "2     not-specified  \n",
       "3              nein  \n",
       "4              nein  \n",
       "5                ja  \n",
       "6              nein  "
      ]
     },
     "execution_count": 20,
     "metadata": {},
     "output_type": "execute_result"
    }
   ],
   "source": [
    "print \"Before:\", data.shape[0]\n",
    "data['notRepairedDamage'].fillna(value='not-specified', inplace=True)\n",
    "data = data.dropna(subset=['vehicleType', 'gearbox', 'model', 'fuelType'], how='any')\n",
    "print \"After:\", data.shape[0]\n",
    "data.head()"
   ]
  },
  {
   "cell_type": "markdown",
   "metadata": {},
   "source": [
    "### Visualizing other features\n",
    "Seller and offer type count plots"
   ]
  },
  {
   "cell_type": "code",
   "execution_count": 21,
   "metadata": {
    "collapsed": false
   },
   "outputs": [
    {
     "data": {
      "image/png": "[encoded data removed]",
      "text/plain": [
       "<matplotlib.figure.Figure at 0x114bb7810>"
      ]
     },
     "metadata": {},
     "output_type": "display_data"
    }
   ],
   "source": [
    "plt.figure(figsize=(12,10))\n",
    "plt.subplot(2,2,1)\n",
    "sns.countplot(data['seller'])\n",
    "plt.subplot(2,2,2)\n",
    "sns.countplot(data['offerType'])\n",
    "plt.show()"
   ]
  },
  {
   "cell_type": "markdown",
   "metadata": {},
   "source": [
    "We can drop all rows with seller value of gewerblich or with offerType of Gesuch - because it is not represented in the data enough."
   ]
  },
  {
   "cell_type": "code",
   "execution_count": 22,
   "metadata": {
    "collapsed": false
   },
   "outputs": [
    {
     "name": "stdout",
     "output_type": "stream",
     "text": [
      "2.00 has value gewerblish (eng. commercial)\n"
     ]
    }
   ],
   "source": [
    "print '{0:.2f}'.format(data[data.seller == 'gewerblich'].shape[0]), \"has value gewerblish (eng. commercial)\"\n",
    "data = data[(data.offerType != 'Gesuch') & (data.seller != 'gewerblich')]\n",
    "data.drop(['seller', 'offerType'], axis = 1, inplace = True)"
   ]
  },
  {
   "cell_type": "markdown",
   "metadata": {},
   "source": [
    "Distribution of abtest and gearbox features: "
   ]
  },
  {
   "cell_type": "code",
   "execution_count": 23,
   "metadata": {
    "collapsed": false
   },
   "outputs": [
    {
     "data": {
      "image/png": "[encoded data removed]",
      "text/plain": [
       "<matplotlib.figure.Figure at 0x116d61dd0>"
      ]
     },
     "metadata": {},
     "output_type": "display_data"
    }
   ],
   "source": [
    "plt.figure(figsize=(12,10))\n",
    "plt.subplot(2,2,1)\n",
    "sns.countplot(data['abtest'])\n",
    "plt.subplot(2,2,2)\n",
    "sns.countplot(data['gearbox'])\n",
    "plt.show()"
   ]
  },
  {
   "cell_type": "code",
   "execution_count": 24,
   "metadata": {
    "collapsed": false
   },
   "outputs": [],
   "source": [
    "data.drop(['abtest'], axis='columns', inplace=True)"
   ]
  },
  {
   "cell_type": "markdown",
   "metadata": {},
   "source": [
    "Distribution of vehicle type and fuet type: "
   ]
  },
  {
   "cell_type": "code",
   "execution_count": 25,
   "metadata": {
    "collapsed": false
   },
   "outputs": [
    {
     "data": {
      "image/png": "[encoded data removed]",
      "text/plain": [
       "<matplotlib.figure.Figure at 0x116d19c50>"
      ]
     },
     "metadata": {},
     "output_type": "display_data"
    }
   ],
   "source": [
    "plt.figure(figsize=(12,10))\n",
    "plt.subplot(2,2,1)\n",
    "sns.countplot(data['vehicleType'])\n",
    "plt.subplot(2,2,2)\n",
    "sns.countplot(data['fuelType'])\n",
    "plt.show()"
   ]
  },
  {
   "cell_type": "code",
   "execution_count": 26,
   "metadata": {
    "collapsed": false
   },
   "outputs": [
    {
     "data": {
      "image/png": "[encoded data removed]",
      "text/plain": [
       "<matplotlib.figure.Figure at 0x1043d7950>"
      ]
     },
     "metadata": {},
     "output_type": "display_data"
    }
   ],
   "source": [
    "plt.figure(figsize=(12,10))\n",
    "plt.subplot(2,2,1)\n",
    "sns.countplot(data['notRepairedDamage'])\n",
    "plt.show()"
   ]
  },
  {
   "cell_type": "code",
   "execution_count": 27,
   "metadata": {
    "collapsed": false
   },
   "outputs": [
    {
     "data": {
      "image/png": "[encoded data removed]",
      "text/plain": [
       "<matplotlib.figure.Figure at 0x116d61510>"
      ]
     },
     "metadata": {},
     "output_type": "display_data"
    }
   ],
   "source": [
    "plt.figure(figsize=(12,10))\n",
    "sns.countplot(y = 'brand', data = data)\n",
    "plt.show()"
   ]
  },
  {
   "cell_type": "markdown",
   "metadata": {},
   "source": [
    "Let's visualize correlation between numberical features"
   ]
  },
  {
   "cell_type": "code",
   "execution_count": 28,
   "metadata": {
    "collapsed": false
   },
   "outputs": [
    {
     "data": {
      "image/png": "[encoded data removed]",
      "text/plain": [
       "<matplotlib.figure.Figure at 0x115d95850>"
      ]
     },
     "metadata": {},
     "output_type": "display_data"
    }
   ],
   "source": [
    "plt.figure(figsize=(10,8))\n",
    "sns.heatmap(data.corr(), annot=True)\n",
    "plt.show()"
   ]
  },
  {
   "cell_type": "markdown",
   "metadata": {},
   "source": [
    "## Methodology"
   ]
  },
  {
   "cell_type": "markdown",
   "metadata": {},
   "source": [
    "### Data Preprocessing"
   ]
  },
  {
   "cell_type": "code",
   "execution_count": 51,
   "metadata": {
    "collapsed": false
   },
   "outputs": [],
   "source": [
    "usedcars = data"
   ]
  },
  {
   "cell_type": "markdown",
   "metadata": {
    "collapsed": true
   },
   "source": [
    "Let's encode our categorical features and normalize kilometer and powerPS features: "
   ]
  },
  {
   "cell_type": "code",
   "execution_count": 52,
   "metadata": {
    "collapsed": false
   },
   "outputs": [
    {
     "data": {
      "text/html": [
       "<div>\n",
       "<table border=\"1\" class=\"dataframe\">\n",
       "  <thead>\n",
       "    <tr style=\"text-align: right;\">\n",
       "      <th></th>\n",
       "      <th>price</th>\n",
       "      <th>yearOfRegistration</th>\n",
       "      <th>powerPS</th>\n",
       "      <th>kilometer</th>\n",
       "      <th>monthOfRegistration</th>\n",
       "      <th>brand=alfa_romeo</th>\n",
       "      <th>brand=audi</th>\n",
       "      <th>brand=bmw</th>\n",
       "      <th>brand=chevrolet</th>\n",
       "      <th>brand=chrysler</th>\n",
       "      <th>...</th>\n",
       "      <th>notRepairedDamage=nein</th>\n",
       "      <th>notRepairedDamage=not-specified</th>\n",
       "      <th>vehicleType=andere</th>\n",
       "      <th>vehicleType=bus</th>\n",
       "      <th>vehicleType=cabrio</th>\n",
       "      <th>vehicleType=coupe</th>\n",
       "      <th>vehicleType=kleinwagen</th>\n",
       "      <th>vehicleType=kombi</th>\n",
       "      <th>vehicleType=limousine</th>\n",
       "      <th>vehicleType=suv</th>\n",
       "    </tr>\n",
       "  </thead>\n",
       "  <tbody>\n",
       "    <tr>\n",
       "      <th>count</th>\n",
       "      <td>276819.000000</td>\n",
       "      <td>276819.000000</td>\n",
       "      <td>276819.000000</td>\n",
       "      <td>276819.00000</td>\n",
       "      <td>276819.000000</td>\n",
       "      <td>276819.000000</td>\n",
       "      <td>276819.000000</td>\n",
       "      <td>276819.000000</td>\n",
       "      <td>276819.000000</td>\n",
       "      <td>276819.000000</td>\n",
       "      <td>...</td>\n",
       "      <td>276819.000000</td>\n",
       "      <td>276819.000000</td>\n",
       "      <td>276819.000000</td>\n",
       "      <td>276819.000000</td>\n",
       "      <td>276819.000000</td>\n",
       "      <td>276819.000000</td>\n",
       "      <td>276819.000000</td>\n",
       "      <td>276819.000000</td>\n",
       "      <td>276819.000000</td>\n",
       "      <td>276819.000000</td>\n",
       "    </tr>\n",
       "    <tr>\n",
       "      <th>mean</th>\n",
       "      <td>6249.155174</td>\n",
       "      <td>2003.211246</td>\n",
       "      <td>126.774846</td>\n",
       "      <td>125100.48082</td>\n",
       "      <td>6.147345</td>\n",
       "      <td>0.006427</td>\n",
       "      <td>0.095702</td>\n",
       "      <td>0.117019</td>\n",
       "      <td>0.004974</td>\n",
       "      <td>0.003789</td>\n",
       "      <td>...</td>\n",
       "      <td>0.801170</td>\n",
       "      <td>0.111051</td>\n",
       "      <td>0.007380</td>\n",
       "      <td>0.093762</td>\n",
       "      <td>0.069677</td>\n",
       "      <td>0.055076</td>\n",
       "      <td>0.229182</td>\n",
       "      <td>0.206601</td>\n",
       "      <td>0.293697</td>\n",
       "      <td>0.044625</td>\n",
       "    </tr>\n",
       "    <tr>\n",
       "      <th>std</th>\n",
       "      <td>6951.607263</td>\n",
       "      <td>6.313160</td>\n",
       "      <td>58.480915</td>\n",
       "      <td>39121.28353</td>\n",
       "      <td>3.496598</td>\n",
       "      <td>0.079908</td>\n",
       "      <td>0.294182</td>\n",
       "      <td>0.321443</td>\n",
       "      <td>0.070354</td>\n",
       "      <td>0.061442</td>\n",
       "      <td>...</td>\n",
       "      <td>0.399121</td>\n",
       "      <td>0.314196</td>\n",
       "      <td>0.085591</td>\n",
       "      <td>0.291497</td>\n",
       "      <td>0.254603</td>\n",
       "      <td>0.228128</td>\n",
       "      <td>0.420307</td>\n",
       "      <td>0.404867</td>\n",
       "      <td>0.455456</td>\n",
       "      <td>0.206479</td>\n",
       "    </tr>\n",
       "    <tr>\n",
       "      <th>min</th>\n",
       "      <td>100.000000</td>\n",
       "      <td>1960.000000</td>\n",
       "      <td>10.000000</td>\n",
       "      <td>5000.00000</td>\n",
       "      <td>0.000000</td>\n",
       "      <td>0.000000</td>\n",
       "      <td>0.000000</td>\n",
       "      <td>0.000000</td>\n",
       "      <td>0.000000</td>\n",
       "      <td>0.000000</td>\n",
       "      <td>...</td>\n",
       "      <td>0.000000</td>\n",
       "      <td>0.000000</td>\n",
       "      <td>0.000000</td>\n",
       "      <td>0.000000</td>\n",
       "      <td>0.000000</td>\n",
       "      <td>0.000000</td>\n",
       "      <td>0.000000</td>\n",
       "      <td>0.000000</td>\n",
       "      <td>0.000000</td>\n",
       "      <td>0.000000</td>\n",
       "    </tr>\n",
       "    <tr>\n",
       "      <th>25%</th>\n",
       "      <td>1500.000000</td>\n",
       "      <td>1999.000000</td>\n",
       "      <td>82.000000</td>\n",
       "      <td>100000.00000</td>\n",
       "      <td>3.000000</td>\n",
       "      <td>0.000000</td>\n",
       "      <td>0.000000</td>\n",
       "      <td>0.000000</td>\n",
       "      <td>0.000000</td>\n",
       "      <td>0.000000</td>\n",
       "      <td>...</td>\n",
       "      <td>1.000000</td>\n",
       "      <td>0.000000</td>\n",
       "      <td>0.000000</td>\n",
       "      <td>0.000000</td>\n",
       "      <td>0.000000</td>\n",
       "      <td>0.000000</td>\n",
       "      <td>0.000000</td>\n",
       "      <td>0.000000</td>\n",
       "      <td>0.000000</td>\n",
       "      <td>0.000000</td>\n",
       "    </tr>\n",
       "    <tr>\n",
       "      <th>50%</th>\n",
       "      <td>3750.000000</td>\n",
       "      <td>2004.000000</td>\n",
       "      <td>116.000000</td>\n",
       "      <td>150000.00000</td>\n",
       "      <td>6.000000</td>\n",
       "      <td>0.000000</td>\n",
       "      <td>0.000000</td>\n",
       "      <td>0.000000</td>\n",
       "      <td>0.000000</td>\n",
       "      <td>0.000000</td>\n",
       "      <td>...</td>\n",
       "      <td>1.000000</td>\n",
       "      <td>0.000000</td>\n",
       "      <td>0.000000</td>\n",
       "      <td>0.000000</td>\n",
       "      <td>0.000000</td>\n",
       "      <td>0.000000</td>\n",
       "      <td>0.000000</td>\n",
       "      <td>0.000000</td>\n",
       "      <td>0.000000</td>\n",
       "      <td>0.000000</td>\n",
       "    </tr>\n",
       "    <tr>\n",
       "      <th>75%</th>\n",
       "      <td>8400.000000</td>\n",
       "      <td>2008.000000</td>\n",
       "      <td>150.000000</td>\n",
       "      <td>150000.00000</td>\n",
       "      <td>9.000000</td>\n",
       "      <td>0.000000</td>\n",
       "      <td>0.000000</td>\n",
       "      <td>0.000000</td>\n",
       "      <td>0.000000</td>\n",
       "      <td>0.000000</td>\n",
       "      <td>...</td>\n",
       "      <td>1.000000</td>\n",
       "      <td>0.000000</td>\n",
       "      <td>0.000000</td>\n",
       "      <td>0.000000</td>\n",
       "      <td>0.000000</td>\n",
       "      <td>0.000000</td>\n",
       "      <td>0.000000</td>\n",
       "      <td>0.000000</td>\n",
       "      <td>1.000000</td>\n",
       "      <td>0.000000</td>\n",
       "    </tr>\n",
       "    <tr>\n",
       "      <th>max</th>\n",
       "      <td>50000.000000</td>\n",
       "      <td>2016.000000</td>\n",
       "      <td>500.000000</td>\n",
       "      <td>150000.00000</td>\n",
       "      <td>12.000000</td>\n",
       "      <td>1.000000</td>\n",
       "      <td>1.000000</td>\n",
       "      <td>1.000000</td>\n",
       "      <td>1.000000</td>\n",
       "      <td>1.000000</td>\n",
       "      <td>...</td>\n",
       "      <td>1.000000</td>\n",
       "      <td>1.000000</td>\n",
       "      <td>1.000000</td>\n",
       "      <td>1.000000</td>\n",
       "      <td>1.000000</td>\n",
       "      <td>1.000000</td>\n",
       "      <td>1.000000</td>\n",
       "      <td>1.000000</td>\n",
       "      <td>1.000000</td>\n",
       "      <td>1.000000</td>\n",
       "    </tr>\n",
       "  </tbody>\n",
       "</table>\n",
       "<p>8 rows × 314 columns</p>\n",
       "</div>"
      ],
      "text/plain": [
       "               price  yearOfRegistration        powerPS     kilometer  \\\n",
       "count  276819.000000       276819.000000  276819.000000  276819.00000   \n",
       "mean     6249.155174         2003.211246     126.774846  125100.48082   \n",
       "std      6951.607263            6.313160      58.480915   39121.28353   \n",
       "min       100.000000         1960.000000      10.000000    5000.00000   \n",
       "25%      1500.000000         1999.000000      82.000000  100000.00000   \n",
       "50%      3750.000000         2004.000000     116.000000  150000.00000   \n",
       "75%      8400.000000         2008.000000     150.000000  150000.00000   \n",
       "max     50000.000000         2016.000000     500.000000  150000.00000   \n",
       "\n",
       "       monthOfRegistration  brand=alfa_romeo     brand=audi      brand=bmw  \\\n",
       "count        276819.000000     276819.000000  276819.000000  276819.000000   \n",
       "mean              6.147345          0.006427       0.095702       0.117019   \n",
       "std               3.496598          0.079908       0.294182       0.321443   \n",
       "min               0.000000          0.000000       0.000000       0.000000   \n",
       "25%               3.000000          0.000000       0.000000       0.000000   \n",
       "50%               6.000000          0.000000       0.000000       0.000000   \n",
       "75%               9.000000          0.000000       0.000000       0.000000   \n",
       "max              12.000000          1.000000       1.000000       1.000000   \n",
       "\n",
       "       brand=chevrolet  brand=chrysler       ...         \\\n",
       "count    276819.000000   276819.000000       ...          \n",
       "mean          0.004974        0.003789       ...          \n",
       "std           0.070354        0.061442       ...          \n",
       "min           0.000000        0.000000       ...          \n",
       "25%           0.000000        0.000000       ...          \n",
       "50%           0.000000        0.000000       ...          \n",
       "75%           0.000000        0.000000       ...          \n",
       "max           1.000000        1.000000       ...          \n",
       "\n",
       "       notRepairedDamage=nein  notRepairedDamage=not-specified  \\\n",
       "count           276819.000000                    276819.000000   \n",
       "mean                 0.801170                         0.111051   \n",
       "std                  0.399121                         0.314196   \n",
       "min                  0.000000                         0.000000   \n",
       "25%                  1.000000                         0.000000   \n",
       "50%                  1.000000                         0.000000   \n",
       "75%                  1.000000                         0.000000   \n",
       "max                  1.000000                         1.000000   \n",
       "\n",
       "       vehicleType=andere  vehicleType=bus  vehicleType=cabrio  \\\n",
       "count       276819.000000    276819.000000       276819.000000   \n",
       "mean             0.007380         0.093762            0.069677   \n",
       "std              0.085591         0.291497            0.254603   \n",
       "min              0.000000         0.000000            0.000000   \n",
       "25%              0.000000         0.000000            0.000000   \n",
       "50%              0.000000         0.000000            0.000000   \n",
       "75%              0.000000         0.000000            0.000000   \n",
       "max              1.000000         1.000000            1.000000   \n",
       "\n",
       "       vehicleType=coupe  vehicleType=kleinwagen  vehicleType=kombi  \\\n",
       "count      276819.000000           276819.000000      276819.000000   \n",
       "mean            0.055076                0.229182           0.206601   \n",
       "std             0.228128                0.420307           0.404867   \n",
       "min             0.000000                0.000000           0.000000   \n",
       "25%             0.000000                0.000000           0.000000   \n",
       "50%             0.000000                0.000000           0.000000   \n",
       "75%             0.000000                0.000000           0.000000   \n",
       "max             1.000000                1.000000           1.000000   \n",
       "\n",
       "       vehicleType=limousine  vehicleType=suv  \n",
       "count          276819.000000    276819.000000  \n",
       "mean                0.293697         0.044625  \n",
       "std                 0.455456         0.206479  \n",
       "min                 0.000000         0.000000  \n",
       "25%                 0.000000         0.000000  \n",
       "50%                 0.000000         0.000000  \n",
       "75%                 1.000000         0.000000  \n",
       "max                 1.000000         1.000000  \n",
       "\n",
       "[8 rows x 314 columns]"
      ]
     },
     "execution_count": 52,
     "metadata": {},
     "output_type": "execute_result"
    }
   ],
   "source": [
    "from sklearn.feature_extraction import DictVectorizer\n",
    "from sklearn import preprocessing\n",
    "\n",
    "cols = ['vehicleType', 'gearbox', 'model', 'fuelType', 'brand', 'notRepairedDamage']\n",
    "\n",
    "vec = DictVectorizer()\n",
    "    \n",
    "vec_data = pd.DataFrame(vec.fit_transform(usedcars[cols].to_dict(orient='records')).toarray())\n",
    "vec_data.columns = vec.get_feature_names()\n",
    "vec_data.index = usedcars.index\n",
    "\n",
    "usedcars = usedcars.drop(cols, axis=1)\n",
    "usedcars = usedcars.join(vec_data)\n",
    "\n",
    "#usedcars[['yearOfRegistration', 'kilometer', 'powerPS']] = preprocessing.MinMaxScaler().fit_transform(usedcars[['yearOfRegistration', 'kilometer', 'powerPS']])\n",
    "#usedcars[['yearOfRegistration']] = preprocessing.MinMaxScaler().fit_transform(usedcars[['yearOfRegistration']])\n",
    "\n",
    "\n",
    "usedcars.describe()"
   ]
  },
  {
   "cell_type": "code",
   "execution_count": 53,
   "metadata": {
    "collapsed": false
   },
   "outputs": [
    {
     "data": {
      "text/html": [
       "<div>\n",
       "<table border=\"1\" class=\"dataframe\">\n",
       "  <thead>\n",
       "    <tr style=\"text-align: right;\">\n",
       "      <th></th>\n",
       "      <th>price</th>\n",
       "      <th>yearOfRegistration</th>\n",
       "      <th>powerPS</th>\n",
       "      <th>kilometer</th>\n",
       "      <th>monthOfRegistration</th>\n",
       "      <th>brand=alfa_romeo</th>\n",
       "      <th>brand=audi</th>\n",
       "      <th>brand=bmw</th>\n",
       "      <th>brand=chevrolet</th>\n",
       "      <th>brand=chrysler</th>\n",
       "      <th>...</th>\n",
       "      <th>notRepairedDamage=nein</th>\n",
       "      <th>notRepairedDamage=not-specified</th>\n",
       "      <th>vehicleType=andere</th>\n",
       "      <th>vehicleType=bus</th>\n",
       "      <th>vehicleType=cabrio</th>\n",
       "      <th>vehicleType=coupe</th>\n",
       "      <th>vehicleType=kleinwagen</th>\n",
       "      <th>vehicleType=kombi</th>\n",
       "      <th>vehicleType=limousine</th>\n",
       "      <th>vehicleType=suv</th>\n",
       "    </tr>\n",
       "  </thead>\n",
       "  <tbody>\n",
       "    <tr>\n",
       "      <th>2</th>\n",
       "      <td>9800</td>\n",
       "      <td>2004</td>\n",
       "      <td>163</td>\n",
       "      <td>125000</td>\n",
       "      <td>8</td>\n",
       "      <td>0.0</td>\n",
       "      <td>0.0</td>\n",
       "      <td>0.0</td>\n",
       "      <td>0.0</td>\n",
       "      <td>0.0</td>\n",
       "      <td>...</td>\n",
       "      <td>0.0</td>\n",
       "      <td>1.0</td>\n",
       "      <td>0.0</td>\n",
       "      <td>0.0</td>\n",
       "      <td>0.0</td>\n",
       "      <td>0.0</td>\n",
       "      <td>0.0</td>\n",
       "      <td>0.0</td>\n",
       "      <td>0.0</td>\n",
       "      <td>1.0</td>\n",
       "    </tr>\n",
       "    <tr>\n",
       "      <th>3</th>\n",
       "      <td>1500</td>\n",
       "      <td>2001</td>\n",
       "      <td>75</td>\n",
       "      <td>150000</td>\n",
       "      <td>6</td>\n",
       "      <td>0.0</td>\n",
       "      <td>0.0</td>\n",
       "      <td>0.0</td>\n",
       "      <td>0.0</td>\n",
       "      <td>0.0</td>\n",
       "      <td>...</td>\n",
       "      <td>1.0</td>\n",
       "      <td>0.0</td>\n",
       "      <td>0.0</td>\n",
       "      <td>0.0</td>\n",
       "      <td>0.0</td>\n",
       "      <td>0.0</td>\n",
       "      <td>1.0</td>\n",
       "      <td>0.0</td>\n",
       "      <td>0.0</td>\n",
       "      <td>0.0</td>\n",
       "    </tr>\n",
       "    <tr>\n",
       "      <th>4</th>\n",
       "      <td>3600</td>\n",
       "      <td>2008</td>\n",
       "      <td>69</td>\n",
       "      <td>90000</td>\n",
       "      <td>7</td>\n",
       "      <td>0.0</td>\n",
       "      <td>0.0</td>\n",
       "      <td>0.0</td>\n",
       "      <td>0.0</td>\n",
       "      <td>0.0</td>\n",
       "      <td>...</td>\n",
       "      <td>1.0</td>\n",
       "      <td>0.0</td>\n",
       "      <td>0.0</td>\n",
       "      <td>0.0</td>\n",
       "      <td>0.0</td>\n",
       "      <td>0.0</td>\n",
       "      <td>1.0</td>\n",
       "      <td>0.0</td>\n",
       "      <td>0.0</td>\n",
       "      <td>0.0</td>\n",
       "    </tr>\n",
       "    <tr>\n",
       "      <th>5</th>\n",
       "      <td>650</td>\n",
       "      <td>1995</td>\n",
       "      <td>102</td>\n",
       "      <td>150000</td>\n",
       "      <td>10</td>\n",
       "      <td>0.0</td>\n",
       "      <td>0.0</td>\n",
       "      <td>1.0</td>\n",
       "      <td>0.0</td>\n",
       "      <td>0.0</td>\n",
       "      <td>...</td>\n",
       "      <td>0.0</td>\n",
       "      <td>0.0</td>\n",
       "      <td>0.0</td>\n",
       "      <td>0.0</td>\n",
       "      <td>0.0</td>\n",
       "      <td>0.0</td>\n",
       "      <td>0.0</td>\n",
       "      <td>0.0</td>\n",
       "      <td>1.0</td>\n",
       "      <td>0.0</td>\n",
       "    </tr>\n",
       "    <tr>\n",
       "      <th>6</th>\n",
       "      <td>2200</td>\n",
       "      <td>2004</td>\n",
       "      <td>109</td>\n",
       "      <td>150000</td>\n",
       "      <td>8</td>\n",
       "      <td>0.0</td>\n",
       "      <td>0.0</td>\n",
       "      <td>0.0</td>\n",
       "      <td>0.0</td>\n",
       "      <td>0.0</td>\n",
       "      <td>...</td>\n",
       "      <td>1.0</td>\n",
       "      <td>0.0</td>\n",
       "      <td>0.0</td>\n",
       "      <td>0.0</td>\n",
       "      <td>1.0</td>\n",
       "      <td>0.0</td>\n",
       "      <td>0.0</td>\n",
       "      <td>0.0</td>\n",
       "      <td>0.0</td>\n",
       "      <td>0.0</td>\n",
       "    </tr>\n",
       "  </tbody>\n",
       "</table>\n",
       "<p>5 rows × 314 columns</p>\n",
       "</div>"
      ],
      "text/plain": [
       "   price  yearOfRegistration  powerPS  kilometer  monthOfRegistration  \\\n",
       "2   9800                2004      163     125000                    8   \n",
       "3   1500                2001       75     150000                    6   \n",
       "4   3600                2008       69      90000                    7   \n",
       "5    650                1995      102     150000                   10   \n",
       "6   2200                2004      109     150000                    8   \n",
       "\n",
       "   brand=alfa_romeo  brand=audi  brand=bmw  brand=chevrolet  brand=chrysler  \\\n",
       "2               0.0         0.0        0.0              0.0             0.0   \n",
       "3               0.0         0.0        0.0              0.0             0.0   \n",
       "4               0.0         0.0        0.0              0.0             0.0   \n",
       "5               0.0         0.0        1.0              0.0             0.0   \n",
       "6               0.0         0.0        0.0              0.0             0.0   \n",
       "\n",
       "        ...         notRepairedDamage=nein  notRepairedDamage=not-specified  \\\n",
       "2       ...                            0.0                              1.0   \n",
       "3       ...                            1.0                              0.0   \n",
       "4       ...                            1.0                              0.0   \n",
       "5       ...                            0.0                              0.0   \n",
       "6       ...                            1.0                              0.0   \n",
       "\n",
       "   vehicleType=andere  vehicleType=bus  vehicleType=cabrio  vehicleType=coupe  \\\n",
       "2                 0.0              0.0                 0.0                0.0   \n",
       "3                 0.0              0.0                 0.0                0.0   \n",
       "4                 0.0              0.0                 0.0                0.0   \n",
       "5                 0.0              0.0                 0.0                0.0   \n",
       "6                 0.0              0.0                 1.0                0.0   \n",
       "\n",
       "   vehicleType=kleinwagen  vehicleType=kombi  vehicleType=limousine  \\\n",
       "2                     0.0                0.0                    0.0   \n",
       "3                     1.0                0.0                    0.0   \n",
       "4                     1.0                0.0                    0.0   \n",
       "5                     0.0                0.0                    1.0   \n",
       "6                     0.0                0.0                    0.0   \n",
       "\n",
       "   vehicleType=suv  \n",
       "2              1.0  \n",
       "3              0.0  \n",
       "4              0.0  \n",
       "5              0.0  \n",
       "6              0.0  \n",
       "\n",
       "[5 rows x 314 columns]"
      ]
     },
     "execution_count": 53,
     "metadata": {},
     "output_type": "execute_result"
    }
   ],
   "source": [
    "usedcars.head()"
   ]
  },
  {
   "cell_type": "markdown",
   "metadata": {},
   "source": [
    "Lets shuffle data and split into features and outputs."
   ]
  },
  {
   "cell_type": "code",
   "execution_count": 54,
   "metadata": {
    "collapsed": false
   },
   "outputs": [],
   "source": [
    "from sklearn.utils import shuffle\n",
    "usedcars = shuffle(usedcars)\n",
    "y = usedcars['price']\n",
    "X = usedcars.drop('price', axis=1)"
   ]
  },
  {
   "cell_type": "markdown",
   "metadata": {},
   "source": [
    "Lets split data into three data sets"
   ]
  },
  {
   "cell_type": "code",
   "execution_count": 55,
   "metadata": {
    "collapsed": false
   },
   "outputs": [
    {
     "name": "stdout",
     "output_type": "stream",
     "text": [
      "Training set size : 249137\n",
      "Validation set size : 27682\n",
      "Test set size : 69205\n"
     ]
    }
   ],
   "source": [
    "from sklearn.model_selection import train_test_split\n",
    "X_train, X_test, y_train, y_test = train_test_split(X, y, test_size=0.25, random_state=21)\n",
    "X_train, X_valid, y_train, y_valid = train_test_split(X, y, test_size=0.10, random_state=31)\n",
    "print \"Training set size :\", X_train.shape[0]\n",
    "print \"Validation set size :\", X_valid.shape[0]\n",
    "print \"Test set size :\", X_test.shape[0]"
   ]
  },
  {
   "cell_type": "markdown",
   "metadata": {},
   "source": [
    "### Implementation"
   ]
  },
  {
   "cell_type": "code",
   "execution_count": 56,
   "metadata": {
    "collapsed": false
   },
   "outputs": [],
   "source": [
    "from sklearn import datasets, linear_model, svm, metrics\n",
    "import math\n",
    "def mean_absolute_percentage_error(y_true, y_pred):\n",
    "    return np.mean(np.abs((y_true - y_pred)/ y_true))*100"
   ]
  },
  {
   "cell_type": "markdown",
   "metadata": {},
   "source": [
    "Linear regressor"
   ]
  },
  {
   "cell_type": "code",
   "execution_count": 57,
   "metadata": {
    "collapsed": false
   },
   "outputs": [
    {
     "name": "stdout",
     "output_type": "stream",
     "text": [
      "Validation: \n",
      "Standard deviation: 3623.06\n",
      "Mean absolute error: 2341.55\n",
      "Training: \n",
      "Standard deviation: 3613.53\n",
      "Mean absolute error: 2354.31\n"
     ]
    }
   ],
   "source": [
    "reg = linear_model.LinearRegression(n_jobs=2)\n",
    "reg.fit(X_train, y_train)\n",
    "\n",
    "pred = reg.predict(X_valid)\n",
    "print \"Validation: \"\n",
    "# Standard deviation\n",
    "print(\"Standard deviation: %.2f\" % math.sqrt(metrics.mean_squared_error(y_valid, pred)))\n",
    "# The absolute error\n",
    "print(\"Mean absolute error: %.2f\" % metrics.mean_absolute_error(y_valid, pred))\n",
    "\n",
    "print \"Training: \"\n",
    "pred = reg.predict(X_train[0:30000])\n",
    "# Standard deviation\n",
    "print(\"Standard deviation: %.2f\" % math.sqrt(metrics.mean_squared_error(y_train[0:30000], pred)))\n",
    "# The absolute error\n",
    "print(\"Mean absolute error: %.2f\" % metrics.mean_absolute_error(y_train[0:30000], pred))"
   ]
  },
  {
   "cell_type": "markdown",
   "metadata": {},
   "source": [
    "Ridge "
   ]
  },
  {
   "cell_type": "code",
   "execution_count": 58,
   "metadata": {
    "collapsed": false
   },
   "outputs": [
    {
     "name": "stdout",
     "output_type": "stream",
     "text": [
      "('alpha = ', 1.0)\n",
      "Validation: \n",
      "Standard deviation: 45829.70\n",
      "Mean absolute error: 36828.36\n",
      "Training: \n",
      "Standard deviation: 46336.87\n",
      "Mean absolute error: 37176.50\n"
     ]
    }
   ],
   "source": [
    "reg = linear_model.RidgeCV(alphas=[0.1, 0.3, 1.0, 2.0, 3.0, 4.0, 5.0, 10.0])\n",
    "reg.fit(X_train, y_train)\n",
    "print (\"alpha = \", reg.alpha_)\n",
    "\n",
    "pred = reg.predict(X_valid)\n",
    "print \"Validation: \"\n",
    "# Standard deviation\n",
    "print(\"Standard deviation: %.2f\" % math.sqrt(metrics.mean_squared_error(y_valid, pred)))\n",
    "# The absolute error\n",
    "print(\"Mean absolute error: %.2f\" % metrics.mean_absolute_error(y_valid, pred))\n",
    "\n",
    "print \"Training: \"\n",
    "pred = reg.predict(X_train[0:30000])\n",
    "# Standard deviation\n",
    "print(\"Standard deviation: %.2f\" % math.sqrt(metrics.mean_squared_error(y_train[0:30000], pred)))\n",
    "# The absolute error\n",
    "print(\"Mean absolute error: %.2f\" % metrics.mean_absolute_error(y_train[0:30000], pred))"
   ]
  },
  {
   "cell_type": "markdown",
   "metadata": {},
   "source": [
    "Lasso"
   ]
  },
  {
   "cell_type": "code",
   "execution_count": 59,
   "metadata": {
    "collapsed": false
   },
   "outputs": [
    {
     "name": "stdout",
     "output_type": "stream",
     "text": [
      "Validation: \n",
      "Standard deviation: 3749.03\n",
      "Mean absolute error: 2467.28\n",
      "Training: \n",
      "Standard deviation: 3761.68\n",
      "Mean absolute error: 2489.43\n"
     ]
    }
   ],
   "source": [
    "reg = linear_model.Lasso(alpha = 5.0)\n",
    "reg.fit(X_train, y_train)\n",
    "\n",
    "pred = reg.predict(X_valid)\n",
    "print \"Validation: \"\n",
    "# Standard deviation\n",
    "print(\"Standard deviation: %.2f\" % math.sqrt(metrics.mean_squared_error(y_valid, pred)))\n",
    "# The absolute error\n",
    "print(\"Mean absolute error: %.2f\" % metrics.mean_absolute_error(y_valid, pred))\n",
    "\n",
    "print \"Training: \"\n",
    "pred = reg.predict(X_train[0:30000])\n",
    "# Standard deviation\n",
    "print(\"Standard deviation: %.2f\" % math.sqrt(metrics.mean_squared_error(y_train[0:30000], pred)))\n",
    "# The absolute error\n",
    "print(\"Mean absolute error: %.2f\" % metrics.mean_absolute_error(y_train[0:30000], pred))"
   ]
  },
  {
   "cell_type": "markdown",
   "metadata": {},
   "source": [
    "Elastic Net"
   ]
  },
  {
   "cell_type": "code",
   "execution_count": 60,
   "metadata": {
    "collapsed": false
   },
   "outputs": [
    {
     "name": "stdout",
     "output_type": "stream",
     "text": [
      "Validation: \n",
      "Standard deviation: 4112.78\n",
      "Mean absolute error: 2678.71\n",
      "Training: \n",
      "Standard deviation: 4133.10\n",
      "Mean absolute error: 2704.61\n"
     ]
    }
   ],
   "source": [
    "reg = linear_model.ElasticNet(alpha=1.0, l1_ratio = 0.75)\n",
    "reg.fit(X_train, y_train)\n",
    "\n",
    "pred = reg.predict(X_valid)\n",
    "print \"Validation: \"\n",
    "# Standard deviation\n",
    "print(\"Standard deviation: %.2f\" % math.sqrt(metrics.mean_squared_error(y_valid, pred)))\n",
    "# The absolute error\n",
    "print(\"Mean absolute error: %.2f\" % metrics.mean_absolute_error(y_valid, pred))\n",
    "\n",
    "print \"Training: \"\n",
    "pred = reg.predict(X_train[0:30000])\n",
    "# Standard deviation\n",
    "print(\"Standard deviation: %.2f\" % math.sqrt(metrics.mean_squared_error(y_train[0:30000], pred)))\n",
    "# The absolute error\n",
    "print(\"Mean absolute error: %.2f\" % metrics.mean_absolute_error(y_train[0:30000], pred))"
   ]
  },
  {
   "cell_type": "markdown",
   "metadata": {},
   "source": [
    "K-Neighbors"
   ]
  },
  {
   "cell_type": "code",
   "execution_count": 61,
   "metadata": {
    "collapsed": false
   },
   "outputs": [
    {
     "name": "stdout",
     "output_type": "stream",
     "text": [
      "Validation: \n",
      "Standard deviation: 2719.14\n",
      "Mean absolute error: 1431.34\n",
      "R2 score: 0.85\n",
      "Training: \n",
      "Standard deviation: 2248.45\n",
      "Mean absolute error: 1224.16\n"
     ]
    }
   ],
   "source": [
    "from sklearn.neighbors import KNeighborsRegressor\n",
    "reg = KNeighborsRegressor(n_neighbors=7, n_jobs=2)\n",
    "reg.fit(X_train, y_train)\n",
    "\n",
    "pred = reg.predict(X_valid)\n",
    "print \"Validation: \"\n",
    "# Standard deviation\n",
    "print(\"Standard deviation: %.2f\" % math.sqrt(metrics.mean_squared_error(y_valid, pred)))\n",
    "# The absolute error\n",
    "print(\"Mean absolute error: %.2f\" % metrics.mean_absolute_error(y_valid, pred))\n",
    "# R2 score\n",
    "print (\"R2 score: %.2f\" % metrics.r2_score(y_valid, pred))\n",
    "\n",
    "print \"Training: \"\n",
    "pred = reg.predict(X_train[0:30000])\n",
    "# Standard deviation\n",
    "print(\"Standard deviation: %.2f\" % math.sqrt(metrics.mean_squared_error(y_train[0:30000], pred)))\n",
    "# The absolute error\n",
    "print(\"Mean absolute error: %.2f\" % metrics.mean_absolute_error(y_train[0:30000], pred))"
   ]
  },
  {
   "cell_type": "markdown",
   "metadata": {},
   "source": [
    "Bayesian Ridge"
   ]
  },
  {
   "cell_type": "code",
   "execution_count": 62,
   "metadata": {
    "collapsed": false
   },
   "outputs": [
    {
     "name": "stdout",
     "output_type": "stream",
     "text": [
      "Validation: \n",
      "Standard deviation: 3622.85\n",
      "Mean absolute error: 2341.93\n",
      "Training: \n",
      "Standard deviation: 3613.64\n",
      "Mean absolute error: 2354.74\n"
     ]
    }
   ],
   "source": [
    "reg = linear_model.BayesianRidge()\n",
    "reg.fit(X_train, y_train)\n",
    "\n",
    "pred = reg.predict(X_valid)\n",
    "print \"Validation: \"\n",
    "# Standard deviation\n",
    "print(\"Standard deviation: %.2f\" % math.sqrt(metrics.mean_squared_error(y_valid, pred)))\n",
    "# The absolute error\n",
    "print(\"Mean absolute error: %.2f\" % metrics.mean_absolute_error(y_valid, pred))\n",
    "\n",
    "print \"Training: \"\n",
    "pred = reg.predict(X_train[0:30000])\n",
    "# Standard deviation\n",
    "print(\"Standard deviation: %.2f\" % math.sqrt(metrics.mean_squared_error(y_train[0:30000], pred)))\n",
    "# The absolute error\n",
    "print(\"Mean absolute error: %.2f\" % metrics.mean_absolute_error(y_train[0:30000], pred))"
   ]
  },
  {
   "cell_type": "markdown",
   "metadata": {},
   "source": [
    "Logistic regression"
   ]
  },
  {
   "cell_type": "code",
   "execution_count": 63,
   "metadata": {
    "collapsed": false
   },
   "outputs": [
    {
     "name": "stdout",
     "output_type": "stream",
     "text": [
      "Validation: \n",
      "Standard deviation: 8371.61\n",
      "Mean absolute error: 5019.37\n",
      "Training: \n",
      "Standard deviation: 8475.78\n",
      "Mean absolute error: 5063.49\n"
     ]
    }
   ],
   "source": [
    "reg = linear_model.LogisticRegression(n_jobs=3, tol = 0.1)\n",
    "reg.fit(X_train[0:60000], y_train[0:60000])\n",
    "\n",
    "print \"Validation: \"\n",
    "pred = reg.predict(X_valid)\n",
    "# Standard deviation\n",
    "print(\"Standard deviation: %.2f\" % math.sqrt(metrics.mean_squared_error(y_valid, pred)))\n",
    "# The absolute error\n",
    "print(\"Mean absolute error: %.2f\" % metrics.mean_absolute_error(y_valid, pred))\n",
    "\n",
    "print \"Training: \"\n",
    "pred = reg.predict(X_train[0:30000])\n",
    "# Standard deviation\n",
    "print(\"Standard deviation: %.2f\" % math.sqrt(metrics.mean_squared_error(y_train[0:30000], pred)))\n",
    "# The absolute error\n",
    "print(\"Mean absolute error: %.2f\" % metrics.mean_absolute_error(y_train[0:30000], pred))"
   ]
  },
  {
   "cell_type": "markdown",
   "metadata": {},
   "source": [
    "Lasso Lars"
   ]
  },
  {
   "cell_type": "code",
   "execution_count": 64,
   "metadata": {
    "collapsed": false
   },
   "outputs": [
    {
     "name": "stdout",
     "output_type": "stream",
     "text": [
      "Validation: \n",
      "Standard deviation: 3684.41\n",
      "Mean absolute error: 2399.21\n",
      "Training: \n",
      "Standard deviation: 3690.86\n",
      "Mean absolute error: 2417.62\n"
     ]
    }
   ],
   "source": [
    "reg = linear_model.LassoLars(alpha=0.1)\n",
    "reg.fit(X_train, y_train)\n",
    "\n",
    "pred = reg.predict(X_valid)\n",
    "print \"Validation: \"\n",
    "# Standard deviation\n",
    "print(\"Standard deviation: %.2f\" % math.sqrt(metrics.mean_squared_error(y_valid, pred)))\n",
    "# The absolute error\n",
    "print(\"Mean absolute error: %.2f\" % metrics.mean_absolute_error(y_valid, pred))\n",
    "\n",
    "print \"Training: \"\n",
    "pred = reg.predict(X_train[0:30000])\n",
    "# Standard deviation\n",
    "print(\"Standard deviation: %.2f\" % math.sqrt(metrics.mean_squared_error(y_train[0:30000], pred)))\n",
    "# The absolute error\n",
    "print(\"Mean absolute error: %.2f\" % metrics.mean_absolute_error(y_train[0:30000], pred))"
   ]
  },
  {
   "cell_type": "markdown",
   "metadata": {},
   "source": [
    "Decision tree regressor"
   ]
  },
  {
   "cell_type": "code",
   "execution_count": 68,
   "metadata": {
    "collapsed": false
   },
   "outputs": [
    {
     "name": "stdout",
     "output_type": "stream",
     "text": [
      "Validation: \n",
      "Standard deviation: 2603.45\n",
      "Mean absolute error: 1284.60\n",
      "Training: \n",
      "Standard deviation: 579.55\n",
      "Mean absolute error: 208.64\n"
     ]
    }
   ],
   "source": [
    "from sklearn.tree import DecisionTreeRegressor\n",
    "reg = DecisionTreeRegressor(random_state=22)\n",
    "reg.fit(X_train, y_train)\n",
    "\n",
    "pred = reg.predict(X_valid)\n",
    "print \"Validation: \"\n",
    "# Standard deviation\n",
    "print(\"Standard deviation: %.2f\" % math.sqrt(metrics.mean_squared_error(y_valid, pred)))\n",
    "# The absolute error\n",
    "print(\"Mean absolute error: %.2f\" % metrics.mean_absolute_error(y_valid, pred))\n",
    "\n",
    "print \"Training: \"\n",
    "pred = reg.predict(X_train[0:30000])\n",
    "# Standard deviation\n",
    "print(\"Standard deviation: %.2f\" % math.sqrt(metrics.mean_squared_error(y_train[0:30000], pred)))\n",
    "# The absolute error\n",
    "print(\"Mean absolute error: %.2f\" % metrics.mean_absolute_error(y_train[0:30000], pred))"
   ]
  },
  {
   "cell_type": "markdown",
   "metadata": {},
   "source": [
    "Multi-layer Perceptron regressor"
   ]
  },
  {
   "cell_type": "code",
   "execution_count": 45,
   "metadata": {
    "collapsed": false
   },
   "outputs": [
    {
     "name": "stdout",
     "output_type": "stream",
     "text": [
      "Iteration 1, loss = 24767976.33961526\n",
      "Iteration 2, loss = 11272016.69351040\n",
      "Iteration 3, loss = 7206488.38967573\n",
      "Iteration 4, loss = 5871933.57447246\n",
      "Iteration 5, loss = 5393192.77673922\n",
      "Iteration 6, loss = 5095616.68920414\n",
      "Iteration 7, loss = 4880576.85032826\n",
      "Iteration 8, loss = 4708518.19394231\n",
      "Iteration 9, loss = 4562931.67293784\n",
      "Iteration 10, loss = 4433404.64986913\n",
      "Iteration 11, loss = 4317595.15581755\n",
      "Iteration 12, loss = 4211800.54750495\n",
      "Iteration 13, loss = 4112010.96106430\n",
      "Iteration 14, loss = 4019639.11449348\n",
      "Iteration 15, loss = 3930533.59650780\n",
      "Iteration 16, loss = 3847191.92504632\n",
      "Iteration 17, loss = 3768872.53974588\n",
      "Iteration 18, loss = 3695061.13719622\n",
      "Iteration 19, loss = 3624836.65321492\n",
      "Iteration 20, loss = 3560313.13297203\n",
      "Iteration 21, loss = 3502733.19656911\n",
      "Iteration 22, loss = 3445694.81508238\n",
      "Iteration 23, loss = 3395664.75589658\n",
      "Iteration 24, loss = 3348609.69972036\n",
      "Iteration 25, loss = 3305127.05111323\n",
      "Iteration 26, loss = 3263577.24746938\n",
      "Iteration 27, loss = 3226347.74263124\n",
      "Iteration 28, loss = 3192635.93514766\n",
      "Iteration 29, loss = 3160436.03741845\n",
      "Iteration 30, loss = 3128457.01518024\n",
      "Iteration 31, loss = 3101446.64749011\n",
      "Iteration 32, loss = 3073890.88777713\n",
      "Iteration 33, loss = 3049162.32366648\n",
      "Iteration 34, loss = 3025261.84736596\n",
      "Iteration 35, loss = 3003434.91422354\n",
      "Iteration 36, loss = 2981385.88168782\n",
      "Iteration 37, loss = 2960269.22423957\n",
      "Iteration 38, loss = 2937936.08372612\n",
      "Iteration 39, loss = 2919629.78599308\n",
      "Iteration 40, loss = 2900055.25358870\n",
      "Iteration 41, loss = 2881473.46339969\n",
      "Iteration 42, loss = 2865125.20779128\n",
      "Iteration 43, loss = 2850512.94093694\n",
      "Iteration 44, loss = 2834086.36816116\n",
      "Iteration 45, loss = 2819238.17213828\n",
      "Iteration 46, loss = 2806238.19207134\n",
      "Iteration 47, loss = 2791458.90862301\n",
      "Iteration 48, loss = 2775945.67681105\n",
      "Iteration 49, loss = 2763779.93359356\n",
      "Iteration 50, loss = 2748477.39000124\n",
      "Iteration 51, loss = 2736728.29756641\n",
      "Iteration 52, loss = 2725683.86460468\n",
      "Iteration 53, loss = 2711002.22701181\n",
      "Iteration 54, loss = 2698138.26683364\n",
      "Iteration 55, loss = 2685514.63089499\n",
      "Iteration 56, loss = 2674031.50103602\n",
      "Iteration 57, loss = 2662610.57326311\n",
      "Iteration 58, loss = 2652371.88526863\n",
      "Iteration 59, loss = 2638683.87142146\n",
      "Iteration 60, loss = 2627306.31282954\n",
      "Iteration 61, loss = 2615578.34374632\n",
      "Iteration 62, loss = 2606913.54326730\n",
      "Iteration 63, loss = 2594714.01278377\n",
      "Iteration 64, loss = 2584135.96134433\n",
      "Iteration 65, loss = 2571781.61641114\n",
      "Iteration 66, loss = 2559232.36720538\n",
      "Iteration 67, loss = 2551782.43191889\n",
      "Iteration 68, loss = 2539603.61254589\n",
      "Iteration 69, loss = 2528672.13297153\n",
      "Iteration 70, loss = 2519920.06649872\n",
      "Iteration 71, loss = 2508464.30778181\n",
      "Iteration 72, loss = 2497278.22582202\n",
      "Iteration 73, loss = 2491171.93229791\n",
      "Iteration 74, loss = 2479515.93231739\n",
      "Iteration 75, loss = 2470306.18762577\n",
      "Iteration 76, loss = 2460107.37183064\n",
      "Iteration 77, loss = 2452160.13841948\n",
      "Iteration 78, loss = 2444452.49949347\n",
      "Iteration 79, loss = 2437001.93110020\n",
      "Iteration 80, loss = 2427163.94253586\n",
      "Iteration 81, loss = 2421073.05966665\n",
      "Iteration 82, loss = 2413579.31929760\n",
      "Iteration 83, loss = 2410138.41357896\n",
      "Iteration 84, loss = 2399483.96106481\n",
      "Iteration 85, loss = 2394941.77662334\n",
      "Iteration 86, loss = 2388196.93862888\n",
      "Iteration 87, loss = 2381995.64240714\n",
      "Iteration 88, loss = 2378788.10244069\n",
      "Iteration 89, loss = 2371227.50269758\n",
      "Iteration 90, loss = 2367280.40036575\n",
      "Iteration 91, loss = 2361792.06449271\n",
      "Iteration 92, loss = 2356971.24698194\n",
      "Iteration 93, loss = 2350547.39614350\n",
      "Iteration 94, loss = 2346593.91979633\n",
      "Iteration 95, loss = 2339984.51370754\n",
      "Iteration 96, loss = 2338327.17642523\n",
      "Iteration 97, loss = 2333336.27289838\n",
      "Iteration 98, loss = 2327908.42617242\n",
      "Iteration 99, loss = 2326360.73726067\n",
      "Iteration 100, loss = 2322923.05742558\n",
      "Iteration 101, loss = 2318190.17767240\n",
      "Iteration 102, loss = 2316803.35055867\n",
      "Iteration 103, loss = 2310886.03333077\n",
      "Iteration 104, loss = 2307495.94477985\n",
      "Iteration 105, loss = 2305537.12319419\n",
      "Iteration 106, loss = 2300983.80577479\n",
      "Iteration 107, loss = 2298024.95188990\n",
      "Iteration 108, loss = 2296210.81001191\n",
      "Iteration 109, loss = 2293146.45239176\n",
      "Iteration 110, loss = 2292816.76191610\n",
      "Iteration 111, loss = 2287513.18175729\n",
      "Iteration 112, loss = 2287235.57017961\n",
      "Iteration 113, loss = 2285598.43076227\n",
      "Iteration 114, loss = 2280027.73186348\n",
      "Iteration 115, loss = 2278924.13267425\n",
      "Iteration 116, loss = 2277877.51039844\n",
      "Iteration 117, loss = 2272753.25181033\n",
      "Iteration 118, loss = 2273161.40239827\n",
      "Iteration 119, loss = 2269421.88458649\n",
      "Iteration 120, loss = 2267195.78426621\n",
      "Iteration 121, loss = 2264812.42135737\n",
      "Iteration 122, loss = 2263865.31850270\n",
      "Iteration 123, loss = 2262230.19950315\n",
      "Iteration 124, loss = 2261214.64558976\n",
      "Iteration 125, loss = 2259496.57398109\n",
      "Iteration 126, loss = 2258739.65500508\n",
      "Iteration 127, loss = 2258120.81178266\n",
      "Iteration 128, loss = 2254220.11832440\n",
      "Iteration 129, loss = 2254908.67691002\n",
      "Iteration 130, loss = 2248128.19173504\n",
      "Iteration 131, loss = 2248621.00561093\n",
      "Iteration 132, loss = 2249990.63211166\n",
      "Iteration 133, loss = 2247135.44709687\n",
      "Iteration 134, loss = 2244986.93813261\n",
      "Iteration 135, loss = 2243234.85280849\n",
      "Iteration 136, loss = 2239916.20472272\n",
      "Iteration 137, loss = 2237087.39222415\n",
      "Iteration 138, loss = 2236939.93924363\n",
      "Iteration 139, loss = 2236757.95611136\n",
      "Iteration 140, loss = 2233903.76198143\n",
      "Iteration 141, loss = 2235220.40010701\n",
      "Iteration 142, loss = 2230964.77077634\n",
      "Iteration 143, loss = 2227651.54065894\n",
      "Iteration 144, loss = 2228146.11558320\n",
      "Iteration 145, loss = 2226920.78780071\n",
      "Iteration 146, loss = 2222889.60314462\n",
      "Iteration 147, loss = 2222784.34239820\n",
      "Iteration 148, loss = 2221260.54670777\n",
      "Iteration 149, loss = 2220936.68200061\n",
      "Iteration 150, loss = 2222485.49476721\n",
      "Iteration 151, loss = 2217681.67270646\n",
      "Iteration 152, loss = 2217380.61928483\n",
      "Iteration 153, loss = 2216590.92806371\n",
      "Iteration 154, loss = 2212028.61262137\n",
      "Iteration 155, loss = 2213355.36495919\n",
      "Iteration 156, loss = 2213824.88747762\n",
      "Iteration 157, loss = 2209214.23982555\n",
      "Iteration 158, loss = 2210905.02426771\n",
      "Iteration 159, loss = 2207409.85975793\n",
      "Iteration 160, loss = 2206476.62609190\n",
      "Iteration 161, loss = 2205042.73631748\n",
      "Iteration 162, loss = 2203518.26592724\n",
      "Iteration 163, loss = 2202166.66178930\n",
      "Iteration 164, loss = 2201837.83348132\n",
      "Iteration 165, loss = 2200389.28563069\n",
      "Iteration 166, loss = 2201227.21215458\n",
      "Iteration 167, loss = 2195621.55876334\n",
      "Iteration 168, loss = 2195733.22227040\n",
      "Iteration 169, loss = 2192546.76873094\n",
      "Iteration 170, loss = 2194556.87919659\n",
      "Iteration 171, loss = 2195973.88790661\n",
      "Iteration 172, loss = 2191711.65553675\n",
      "Iteration 173, loss = 2188838.61937942\n",
      "Iteration 174, loss = 2188852.94226059\n",
      "Iteration 175, loss = 2186744.37425999\n",
      "Iteration 176, loss = 2186932.18528338\n",
      "Iteration 177, loss = 2183147.26805583\n",
      "Iteration 178, loss = 2183117.43056944\n",
      "Iteration 179, loss = 2184091.89204251\n",
      "Iteration 180, loss = 2180427.90254717\n",
      "Iteration 181, loss = 2181923.39015465\n",
      "Iteration 182, loss = 2179808.88449335\n",
      "Iteration 183, loss = 2176732.92001202\n",
      "Iteration 184, loss = 2174971.01012306\n",
      "Iteration 185, loss = 2173471.42030670\n",
      "Iteration 186, loss = 2173538.87999424\n",
      "Iteration 187, loss = 2175584.54542756\n",
      "Iteration 188, loss = 2170675.80183476\n",
      "Iteration 189, loss = 2172051.51753948\n",
      "Iteration 190, loss = 2168599.62434466\n",
      "Iteration 191, loss = 2169663.52498443\n",
      "Iteration 192, loss = 2166672.93514489\n",
      "Iteration 193, loss = 2165310.07619932\n",
      "Iteration 194, loss = 2165210.46924536\n",
      "Iteration 195, loss = 2163321.87651520\n",
      "Iteration 196, loss = 2161189.46559454\n",
      "Iteration 197, loss = 2162304.64204921\n",
      "Iteration 198, loss = 2158018.62495871\n",
      "Iteration 199, loss = 2160654.65147466\n",
      "Iteration 200, loss = 2158471.20849264\n",
      "Validation: \n"
     ]
    },
    {
     "name": "stderr",
     "output_type": "stream",
     "text": [
      "/Users/zaimmusa/.local/lib/python2.7/site-packages/sklearn/neural_network/multilayer_perceptron.py:563: ConvergenceWarning: Stochastic Optimizer: Maximum iterations reached and the optimization hasn't converged yet.\n",
      "  % (), ConvergenceWarning)\n"
     ]
    },
    {
     "name": "stdout",
     "output_type": "stream",
     "text": [
      "Standard deviation: 2240.20\n",
      "Mean absolute error: 1199.71\n",
      "Training: \n",
      "Standard deviation: 2030.66\n",
      "Mean absolute error: 1156.86\n"
     ]
    }
   ],
   "source": [
    "from sklearn.neural_network import MLPRegressor\n",
    "reg = MLPRegressor(hidden_layer_sizes = (100,32), tol = 0.0001, verbose=True)\n",
    "reg.fit(X_train, y_train)\n",
    "\n",
    "print \"Validation: \"\n",
    "pred = reg.predict(X_valid)\n",
    "# Standard deviation\n",
    "print(\"Standard deviation: %.2f\" % math.sqrt(metrics.mean_squared_error(y_valid, pred)))\n",
    "# The absolute error\n",
    "print(\"Mean absolute error: %.2f\" % metrics.mean_absolute_error(y_valid, pred))\n",
    "\n",
    "print \"Training: \"\n",
    "pred = reg.predict(X_train[0:30000])\n",
    "# Standard deviation\n",
    "print(\"Standard deviation: %.2f\" % math.sqrt(metrics.mean_squared_error(y_train[0:30000], pred)))\n",
    "# The absolute error\n",
    "print(\"Mean absolute error: %.2f\" % metrics.mean_absolute_error(y_train[0:30000], pred))"
   ]
  },
  {
   "cell_type": "markdown",
   "metadata": {},
   "source": [
    "Epsilon-Support Vector Regression"
   ]
  },
  {
   "cell_type": "code",
   "execution_count": 69,
   "metadata": {
    "collapsed": false
   },
   "outputs": [
    {
     "name": "stdout",
     "output_type": "stream",
     "text": [
      "[LibSVM]Validation: \n",
      "Standard deviation: 7022.97\n",
      "Mean absolute error: 4105.94\n",
      "Training: \n",
      "Standard deviation: 7129.36\n",
      "Mean absolute error: 4138.44\n"
     ]
    }
   ],
   "source": [
    "from sklearn.svm import SVR\n",
    "reg = SVR(verbose=True)\n",
    "reg.fit(X_train[0:30000], y_train[0:30000])\n",
    "\n",
    "print \"Validation: \"\n",
    "pred = reg.predict(X_valid)\n",
    "# Standard deviation\n",
    "print(\"Standard deviation: %.2f\" % math.sqrt(metrics.mean_squared_error(y_valid, pred)))\n",
    "# The absolute error\n",
    "print(\"Mean absolute error: %.2f\" % metrics.mean_absolute_error(y_valid, pred))\n",
    "\n",
    "print \"Training: \"\n",
    "pred = reg.predict(X_train[0:30000])\n",
    "# Standard deviation\n",
    "print(\"Standard deviation: %.2f\" % math.sqrt(metrics.mean_squared_error(y_train[0:30000], pred)))\n",
    "# The absolute error\n",
    "print(\"Mean absolute error: %.2f\" % metrics.mean_absolute_error(y_train[0:30000], pred))"
   ]
  },
  {
   "cell_type": "code",
   "execution_count": 70,
   "metadata": {
    "collapsed": false
   },
   "outputs": [
    {
     "name": "stdout",
     "output_type": "stream",
     "text": [
      "                                    price  yearOfRegistration   powerPS  \\\n",
      "price                            1.000000            0.533110  0.573294   \n",
      "yearOfRegistration               0.533110            1.000000  0.215714   \n",
      "powerPS                          0.573294            0.215714  1.000000   \n",
      "kilometer                       -0.473555           -0.412499  0.006041   \n",
      "monthOfRegistration              0.033247            0.038511  0.029591   \n",
      "brand=alfa_romeo                -0.020071           -0.011485  0.023283   \n",
      "brand=audi                       0.152279            0.046192  0.215245   \n",
      "brand=bmw                        0.134212            0.000287  0.298491   \n",
      "brand=chevrolet                  0.005656            0.008053  0.017278   \n",
      "brand=chrysler                  -0.016029           -0.015167  0.043791   \n",
      "brand=citroen                   -0.037783            0.022720 -0.061243   \n",
      "brand=dacia                     -0.001937            0.058023 -0.034075   \n",
      "brand=daewoo                    -0.026227           -0.008832 -0.025984   \n",
      "brand=daihatsu                  -0.026466           -0.004650 -0.043274   \n",
      "brand=fiat                      -0.068337            0.001140 -0.127171   \n",
      "brand=ford                      -0.082240            0.001054 -0.091623   \n",
      "brand=honda                     -0.022843           -0.020959 -0.014859   \n",
      "brand=hyundai                   -0.003231            0.066148 -0.025972   \n",
      "brand=jaguar                     0.023492           -0.015700  0.076117   \n",
      "brand=jeep                       0.039225           -0.006174  0.050510   \n",
      "brand=kia                        0.001748            0.052555 -0.008435   \n",
      "brand=lada                      -0.008693           -0.002022 -0.018076   \n",
      "brand=lancia                    -0.014156           -0.016894 -0.014101   \n",
      "brand=land_rover                 0.067946            0.008029  0.029864   \n",
      "brand=mazda                     -0.030390           -0.006235 -0.013427   \n",
      "brand=mercedes_benz              0.113504           -0.052177  0.224159   \n",
      "brand=mini                       0.060195            0.070494 -0.000115   \n",
      "brand=mitsubishi                -0.031688           -0.014969 -0.011587   \n",
      "brand=nissan                    -0.016943            0.006346 -0.038582   \n",
      "brand=opel                      -0.140356           -0.051357 -0.145891   \n",
      "...                                   ...                 ...       ...   \n",
      "model=v60                        0.019326            0.015327  0.010292   \n",
      "model=v70                       -0.010094           -0.009589  0.032125   \n",
      "model=v_klasse                   0.000447           -0.007589  0.001672   \n",
      "model=vectra                    -0.065905           -0.048898 -0.003769   \n",
      "model=verso                      0.005007            0.019154  0.005643   \n",
      "model=viano                      0.067251            0.031190  0.030469   \n",
      "model=vito                       0.007857            0.017080 -0.002169   \n",
      "model=vivaro                     0.009877            0.021820 -0.008169   \n",
      "model=voyager                   -0.016969           -0.012539  0.009616   \n",
      "model=wrangler                   0.038853            0.000487  0.017669   \n",
      "model=x_reihe                    0.142958            0.065011  0.124075   \n",
      "model=x_trail                    0.005038            0.010538  0.005874   \n",
      "model=x_type                    -0.002178           -0.000153  0.020833   \n",
      "model=xc_reihe                   0.041925            0.026304  0.035456   \n",
      "model=yaris                     -0.017411            0.020213 -0.044676   \n",
      "model=yeti                       0.032433            0.036707 -0.001295   \n",
      "model=ypsilon                   -0.015600           -0.007487 -0.024346   \n",
      "model=z_reihe                    0.059031            0.001652  0.060058   \n",
      "model=zafira                    -0.028306            0.017469 -0.002005   \n",
      "notRepairedDamage=ja            -0.168648           -0.112100 -0.058636   \n",
      "notRepairedDamage=nein           0.218191            0.184802  0.095667   \n",
      "notRepairedDamage=not-specified -0.125277           -0.133793 -0.068716   \n",
      "vehicleType=andere              -0.022503           -0.036901 -0.031083   \n",
      "vehicleType=bus                  0.034133            0.074242 -0.037671   \n",
      "vehicleType=cabrio               0.125287           -0.031796  0.103346   \n",
      "vehicleType=coupe                0.111991           -0.067202  0.200101   \n",
      "vehicleType=kleinwagen          -0.249604           -0.019350 -0.494824   \n",
      "vehicleType=kombi               -0.006032            0.068152  0.135990   \n",
      "vehicleType=limousine           -0.004134           -0.077253  0.131541   \n",
      "vehicleType=suv                  0.211958            0.100101  0.168005   \n",
      "\n",
      "                                 kilometer  monthOfRegistration  \\\n",
      "price                            -0.473555             0.033247   \n",
      "yearOfRegistration               -0.412499             0.038511   \n",
      "powerPS                           0.006041             0.029591   \n",
      "kilometer                         1.000000            -0.011397   \n",
      "monthOfRegistration              -0.011397             1.000000   \n",
      "brand=alfa_romeo                  0.008177            -0.006376   \n",
      "brand=audi                        0.030255             0.013361   \n",
      "brand=bmw                         0.070996             0.006955   \n",
      "brand=chevrolet                  -0.045549            -0.003170   \n",
      "brand=chrysler                    0.015787             0.002597   \n",
      "brand=citroen                    -0.017700            -0.000987   \n",
      "brand=dacia                      -0.051589             0.005595   \n",
      "brand=daewoo                     -0.001314             0.008984   \n",
      "brand=daihatsu                   -0.008316             0.007051   \n",
      "brand=fiat                       -0.041440            -0.011553   \n",
      "brand=ford                       -0.016017            -0.011176   \n",
      "brand=honda                      -0.000823            -0.006872   \n",
      "brand=hyundai                    -0.061729             0.004264   \n",
      "brand=jaguar                      0.003628             0.005606   \n",
      "brand=jeep                       -0.005755             0.003085   \n",
      "brand=kia                        -0.039760             0.001633   \n",
      "brand=lada                       -0.031337             0.001555   \n",
      "brand=lancia                     -0.002675            -0.004021   \n",
      "brand=land_rover                 -0.003449             0.000956   \n",
      "brand=mazda                      -0.002678            -0.008201   \n",
      "brand=mercedes_benz               0.047393             0.014006   \n",
      "brand=mini                       -0.085579             0.003809   \n",
      "brand=mitsubishi                  0.001158            -0.006058   \n",
      "brand=nissan                     -0.023233            -0.000620   \n",
      "brand=opel                        0.021934            -0.010361   \n",
      "...                                    ...                  ...   \n",
      "model=v60                        -0.008362             0.003271   \n",
      "model=v70                         0.023414             0.002203   \n",
      "model=v_klasse                    0.007453             0.001627   \n",
      "model=vectra                      0.042135            -0.011401   \n",
      "model=verso                      -0.004892             0.003328   \n",
      "model=viano                      -0.002635             0.006854   \n",
      "model=vito                        0.017454             0.003313   \n",
      "model=vivaro                     -0.002724             0.002550   \n",
      "model=voyager                     0.016276            -0.001589   \n",
      "model=wrangler                   -0.016592            -0.000402   \n",
      "model=x_reihe                    -0.014993             0.012021   \n",
      "model=x_trail                     0.004125             0.001145   \n",
      "model=x_type                      0.007188             0.003197   \n",
      "model=xc_reihe                   -0.000388            -0.005830   \n",
      "model=yaris                      -0.021925             0.003416   \n",
      "model=yeti                       -0.039582             0.000061   \n",
      "model=ypsilon                    -0.002966             0.000091   \n",
      "model=z_reihe                    -0.018288            -0.007538   \n",
      "model=zafira                      0.025517             0.008002   \n",
      "notRepairedDamage=ja              0.090294            -0.026770   \n",
      "notRepairedDamage=nein           -0.126615             0.068166   \n",
      "notRepairedDamage=not-specified   0.079517            -0.062481   \n",
      "vehicleType=andere                0.007465            -0.009029   \n",
      "vehicleType=bus                   0.028402             0.014293   \n",
      "vehicleType=cabrio               -0.083275            -0.038128   \n",
      "vehicleType=coupe                -0.004597            -0.005042   \n",
      "vehicleType=kleinwagen           -0.108918            -0.013890   \n",
      "vehicleType=kombi                 0.134322             0.018953   \n",
      "vehicleType=limousine             0.041318             0.005899   \n",
      "vehicleType=suv                  -0.068234             0.014250   \n",
      "\n",
      "                                 brand=alfa_romeo  brand=audi  brand=bmw  \\\n",
      "price                                   -0.020071    0.152279   0.134212   \n",
      "yearOfRegistration                      -0.011485    0.046192   0.000287   \n",
      "powerPS                                  0.023283    0.215245   0.298491   \n",
      "kilometer                                0.008177    0.030255   0.070996   \n",
      "monthOfRegistration                     -0.006376    0.013361   0.006955   \n",
      "brand=alfa_romeo                         1.000000   -0.026163  -0.029278   \n",
      "brand=audi                              -0.026163    1.000000  -0.118428   \n",
      "brand=bmw                               -0.029278   -0.118428   1.000000   \n",
      "brand=chevrolet                         -0.005686   -0.023001  -0.025740   \n",
      "brand=chrysler                          -0.004960   -0.020064  -0.022453   \n",
      "brand=citroen                           -0.009585   -0.038772  -0.043387   \n",
      "brand=dacia                             -0.004175   -0.016888  -0.018898   \n",
      "brand=daewoo                            -0.002857   -0.011558  -0.012934   \n",
      "brand=daihatsu                          -0.003542   -0.014329  -0.016035   \n",
      "brand=fiat                              -0.012722   -0.051461  -0.057588   \n",
      "brand=ford                              -0.021597   -0.087361  -0.097761   \n",
      "brand=honda                             -0.006993   -0.028285  -0.031652   \n",
      "brand=hyundai                           -0.008278   -0.033484  -0.037471   \n",
      "brand=jaguar                            -0.003366   -0.013615  -0.015235   \n",
      "brand=jeep                              -0.003887   -0.015721  -0.017593   \n",
      "brand=kia                               -0.006837   -0.027654  -0.030946   \n",
      "brand=lada                              -0.001822   -0.007370  -0.008247   \n",
      "brand=lancia                            -0.002804   -0.011341  -0.012691   \n",
      "brand=land_rover                        -0.003826   -0.015475  -0.017317   \n",
      "brand=mazda                             -0.010104   -0.040869  -0.045734   \n",
      "brand=mercedes_benz                     -0.026930   -0.108930  -0.121897   \n",
      "brand=mini                              -0.008400   -0.033977  -0.038021   \n",
      "brand=mitsubishi                        -0.007225   -0.029224  -0.032703   \n",
      "brand=nissan                            -0.009367   -0.037890  -0.042401   \n",
      "brand=opel                              -0.027152   -0.109828  -0.122903   \n",
      "...                                           ...         ...        ...   \n",
      "model=v60                               -0.001025   -0.004148  -0.004642   \n",
      "model=v70                               -0.003631   -0.014686  -0.016434   \n",
      "model=v_klasse                          -0.001737   -0.007024  -0.007860   \n",
      "model=vectra                            -0.008507   -0.034411  -0.038507   \n",
      "model=verso                             -0.002550   -0.010314  -0.011542   \n",
      "model=viano                             -0.002926   -0.011837  -0.013246   \n",
      "model=vito                              -0.004124   -0.016682  -0.018668   \n",
      "model=vivaro                            -0.002532   -0.010240  -0.011459   \n",
      "model=voyager                           -0.002359   -0.009543  -0.010679   \n",
      "model=wrangler                          -0.001816   -0.007344  -0.008218   \n",
      "model=x_reihe                           -0.006926   -0.028016   0.236568   \n",
      "model=x_trail                           -0.002057   -0.008321  -0.009312   \n",
      "model=x_type                            -0.001790   -0.007239  -0.008101   \n",
      "model=xc_reihe                          -0.002719   -0.010998  -0.012307   \n",
      "model=yaris                             -0.004524   -0.018298  -0.020476   \n",
      "model=yeti                              -0.002124   -0.008593  -0.009616   \n",
      "model=ypsilon                           -0.001866   -0.007549  -0.008448   \n",
      "model=z_reihe                           -0.004392   -0.017764   0.150002   \n",
      "model=zafira                            -0.007362   -0.029777  -0.033322   \n",
      "notRepairedDamage=ja                     0.011477   -0.010001  -0.022734   \n",
      "notRepairedDamage=nein                  -0.004563    0.013089   0.022687   \n",
      "notRepairedDamage=not-specified         -0.004541   -0.007620  -0.008344   \n",
      "vehicleType=andere                      -0.003766   -0.015856  -0.008019   \n",
      "vehicleType=bus                         -0.025869   -0.104302  -0.115284   \n",
      "vehicleType=cabrio                       0.008176   -0.000381   0.048817   \n",
      "vehicleType=coupe                        0.020812    0.022497   0.089803   \n",
      "vehicleType=kleinwagen                  -0.021051   -0.139434  -0.189438   \n",
      "vehicleType=kombi                        0.004406    0.156072   0.017448   \n",
      "vehicleType=limousine                    0.025660    0.069274   0.175272   \n",
      "vehicleType=suv                         -0.017382   -0.045568  -0.028549   \n",
      "\n",
      "                                 brand=chevrolet  brand=chrysler  \\\n",
      "price                                   0.005656       -0.016029   \n",
      "yearOfRegistration                      0.008053       -0.015167   \n",
      "powerPS                                 0.017278        0.043791   \n",
      "kilometer                              -0.045549        0.015787   \n",
      "monthOfRegistration                    -0.003170        0.002597   \n",
      "brand=alfa_romeo                       -0.005686       -0.004960   \n",
      "brand=audi                             -0.023001       -0.020064   \n",
      "brand=bmw                              -0.025740       -0.022453   \n",
      "brand=chevrolet                         1.000000       -0.004361   \n",
      "brand=chrysler                         -0.004361        1.000000   \n",
      "brand=citroen                          -0.008427       -0.007351   \n",
      "brand=dacia                            -0.003670       -0.003202   \n",
      "brand=daewoo                           -0.002512       -0.002191   \n",
      "brand=daihatsu                         -0.003114       -0.002717   \n",
      "brand=fiat                             -0.011185       -0.009756   \n",
      "brand=ford                             -0.018987       -0.016563   \n",
      "brand=honda                            -0.006148       -0.005363   \n",
      "brand=hyundai                          -0.007278       -0.006348   \n",
      "brand=jaguar                           -0.002959       -0.002581   \n",
      "brand=jeep                             -0.003417       -0.002981   \n",
      "brand=kia                              -0.006010       -0.005243   \n",
      "brand=lada                             -0.001602       -0.001397   \n",
      "brand=lancia                           -0.002465       -0.002150   \n",
      "brand=land_rover                       -0.003363       -0.002934   \n",
      "brand=mazda                            -0.008883       -0.007748   \n",
      "brand=mercedes_benz                    -0.023675       -0.020652   \n",
      "brand=mini                             -0.007385       -0.006442   \n",
      "brand=mitsubishi                       -0.006352       -0.005540   \n",
      "brand=nissan                           -0.008235       -0.007184   \n",
      "brand=opel                             -0.023871       -0.020822   \n",
      "...                                          ...             ...   \n",
      "model=v60                              -0.000902       -0.000786   \n",
      "model=v70                              -0.003192       -0.002784   \n",
      "model=v_klasse                         -0.001527       -0.001332   \n",
      "model=vectra                           -0.007479       -0.006524   \n",
      "model=verso                            -0.002242       -0.001955   \n",
      "model=viano                            -0.002573       -0.002244   \n",
      "model=vito                             -0.003626       -0.003163   \n",
      "model=vivaro                           -0.002226       -0.001941   \n",
      "model=voyager                          -0.002074        0.475623   \n",
      "model=wrangler                         -0.001596       -0.001392   \n",
      "model=x_reihe                          -0.006089       -0.005312   \n",
      "model=x_trail                          -0.001809       -0.001578   \n",
      "model=x_type                           -0.001573       -0.001372   \n",
      "model=xc_reihe                         -0.002390       -0.002085   \n",
      "model=yaris                            -0.003977       -0.003469   \n",
      "model=yeti                             -0.001868       -0.001629   \n",
      "model=ypsilon                          -0.001641       -0.001431   \n",
      "model=z_reihe                          -0.003861       -0.003368   \n",
      "model=zafira                           -0.006472       -0.005645   \n",
      "notRepairedDamage=ja                   -0.001066        0.011411   \n",
      "notRepairedDamage=nein                  0.002675       -0.007134   \n",
      "notRepairedDamage=not-specified        -0.002438       -0.001215   \n",
      "vehicleType=andere                      0.013101       -0.001883   \n",
      "vehicleType=bus                         0.000157        0.048134   \n",
      "vehicleType=cabrio                     -0.013703        0.026997   \n",
      "vehicleType=coupe                       0.003187       -0.003035   \n",
      "vehicleType=kleinwagen                  0.022041       -0.032651   \n",
      "vehicleType=kombi                      -0.024666        0.001783   \n",
      "vehicleType=limousine                  -0.025188       -0.011371   \n",
      "vehicleType=suv                         0.066784       -0.009058   \n",
      "\n",
      "                                      ...         notRepairedDamage=nein  \\\n",
      "price                                 ...                       0.218191   \n",
      "yearOfRegistration                    ...                       0.184802   \n",
      "powerPS                               ...                       0.095667   \n",
      "kilometer                             ...                      -0.126615   \n",
      "monthOfRegistration                   ...                       0.068166   \n",
      "brand=alfa_romeo                      ...                      -0.004563   \n",
      "brand=audi                            ...                       0.013089   \n",
      "brand=bmw                             ...                       0.022687   \n",
      "brand=chevrolet                       ...                       0.002675   \n",
      "brand=chrysler                        ...                      -0.007134   \n",
      "brand=citroen                         ...                      -0.001782   \n",
      "brand=dacia                           ...                       0.006631   \n",
      "brand=daewoo                          ...                      -0.009593   \n",
      "brand=daihatsu                        ...                      -0.004618   \n",
      "brand=fiat                            ...                      -0.015970   \n",
      "brand=ford                            ...                      -0.025684   \n",
      "brand=honda                           ...                      -0.002835   \n",
      "brand=hyundai                         ...                       0.009065   \n",
      "brand=jaguar                          ...                      -0.000166   \n",
      "brand=jeep                            ...                       0.001923   \n",
      "brand=kia                             ...                       0.006743   \n",
      "brand=lada                            ...                       0.000893   \n",
      "brand=lancia                          ...                      -0.005509   \n",
      "brand=land_rover                      ...                       0.006535   \n",
      "brand=mazda                           ...                      -0.004818   \n",
      "brand=mercedes_benz                   ...                       0.028317   \n",
      "brand=mini                            ...                       0.027413   \n",
      "brand=mitsubishi                      ...                      -0.013041   \n",
      "brand=nissan                          ...                      -0.001602   \n",
      "brand=opel                            ...                      -0.035317   \n",
      "...                                   ...                            ...   \n",
      "model=v60                             ...                       0.005642   \n",
      "model=v70                             ...                      -0.001619   \n",
      "model=v_klasse                        ...                      -0.006438   \n",
      "model=vectra                          ...                      -0.028984   \n",
      "model=verso                           ...                       0.008651   \n",
      "model=viano                           ...                       0.014141   \n",
      "model=vito                            ...                       0.003601   \n",
      "model=vivaro                          ...                       0.002441   \n",
      "model=voyager                         ...                      -0.012253   \n",
      "model=wrangler                        ...                       0.004828   \n",
      "model=x_reihe                         ...                       0.022045   \n",
      "model=x_trail                         ...                       0.006369   \n",
      "model=x_type                          ...                      -0.001123   \n",
      "model=xc_reihe                        ...                       0.010408   \n",
      "model=yaris                           ...                       0.009295   \n",
      "model=yeti                            ...                       0.010073   \n",
      "model=ypsilon                         ...                      -0.001707   \n",
      "model=z_reihe                         ...                       0.019556   \n",
      "model=zafira                          ...                      -0.001864   \n",
      "notRepairedDamage=ja                  ...                      -0.622683   \n",
      "notRepairedDamage=nein                ...                       1.000000   \n",
      "notRepairedDamage=not-specified       ...                      -0.709486   \n",
      "vehicleType=andere                    ...                      -0.047247   \n",
      "vehicleType=bus                       ...                       0.019582   \n",
      "vehicleType=cabrio                    ...                       0.043443   \n",
      "vehicleType=coupe                     ...                       0.001721   \n",
      "vehicleType=kleinwagen                ...                      -0.047889   \n",
      "vehicleType=kombi                     ...                      -0.014100   \n",
      "vehicleType=limousine                 ...                       0.012224   \n",
      "vehicleType=suv                       ...                       0.034637   \n",
      "\n",
      "                                 notRepairedDamage=not-specified  \\\n",
      "price                                                  -0.125277   \n",
      "yearOfRegistration                                     -0.133793   \n",
      "powerPS                                                -0.068716   \n",
      "kilometer                                               0.079517   \n",
      "monthOfRegistration                                    -0.062481   \n",
      "brand=alfa_romeo                                       -0.004541   \n",
      "brand=audi                                             -0.007620   \n",
      "brand=bmw                                              -0.008344   \n",
      "brand=chevrolet                                        -0.002438   \n",
      "brand=chrysler                                         -0.001215   \n",
      "brand=citroen                                          -0.000836   \n",
      "brand=dacia                                            -0.006356   \n",
      "brand=daewoo                                            0.002995   \n",
      "brand=daihatsu                                          0.000909   \n",
      "brand=fiat                                              0.006297   \n",
      "brand=ford                                              0.012450   \n",
      "brand=honda                                            -0.000087   \n",
      "brand=hyundai                                          -0.009964   \n",
      "brand=jaguar                                           -0.000756   \n",
      "brand=jeep                                             -0.000627   \n",
      "brand=kia                                              -0.010156   \n",
      "brand=lada                                             -0.000898   \n",
      "brand=lancia                                           -0.000103   \n",
      "brand=land_rover                                       -0.005670   \n",
      "brand=mazda                                            -0.001453   \n",
      "brand=mercedes_benz                                    -0.017574   \n",
      "brand=mini                                             -0.017996   \n",
      "brand=mitsubishi                                        0.004117   \n",
      "brand=nissan                                           -0.002045   \n",
      "brand=opel                                              0.023396   \n",
      "...                                                          ...   \n",
      "model=v60                                              -0.003605   \n",
      "model=v70                                              -0.004727   \n",
      "model=v_klasse                                          0.003556   \n",
      "model=vectra                                            0.017789   \n",
      "model=verso                                            -0.008665   \n",
      "model=viano                                            -0.009696   \n",
      "model=vito                                             -0.005985   \n",
      "model=vivaro                                           -0.002350   \n",
      "model=voyager                                           0.005323   \n",
      "model=wrangler                                         -0.002374   \n",
      "model=x_reihe                                          -0.015645   \n",
      "model=x_trail                                          -0.005442   \n",
      "model=x_type                                            0.000923   \n",
      "model=xc_reihe                                         -0.007863   \n",
      "model=yaris                                            -0.007371   \n",
      "model=yeti                                             -0.007158   \n",
      "model=ypsilon                                          -0.002254   \n",
      "model=z_reihe                                          -0.012332   \n",
      "model=zafira                                           -0.002333   \n",
      "notRepairedDamage=ja                                   -0.109640   \n",
      "notRepairedDamage=nein                                 -0.709486   \n",
      "notRepairedDamage=not-specified                         1.000000   \n",
      "vehicleType=andere                                      0.043540   \n",
      "vehicleType=bus                                        -0.027347   \n",
      "vehicleType=cabrio                                     -0.020635   \n",
      "vehicleType=coupe                                       0.004683   \n",
      "vehicleType=kleinwagen                                  0.041271   \n",
      "vehicleType=kombi                                       0.000962   \n",
      "vehicleType=limousine                                  -0.010036   \n",
      "vehicleType=suv                                        -0.022931   \n",
      "\n",
      "                                 vehicleType=andere  vehicleType=bus  \\\n",
      "price                                     -0.022503         0.034133   \n",
      "yearOfRegistration                        -0.036901         0.074242   \n",
      "powerPS                                   -0.031083        -0.037671   \n",
      "kilometer                                  0.007465         0.028402   \n",
      "monthOfRegistration                       -0.009029         0.014293   \n",
      "brand=alfa_romeo                          -0.003766        -0.025869   \n",
      "brand=audi                                -0.015856        -0.104302   \n",
      "brand=bmw                                 -0.008019        -0.115284   \n",
      "brand=chevrolet                            0.013101         0.000157   \n",
      "brand=chrysler                            -0.001883         0.048134   \n",
      "brand=citroen                              0.020611         0.078091   \n",
      "brand=dacia                                0.000415        -0.007123   \n",
      "brand=daewoo                               0.000505        -0.003745   \n",
      "brand=daihatsu                             0.002923        -0.005147   \n",
      "brand=fiat                                 0.020819         0.004927   \n",
      "brand=ford                                 0.001614         0.035581   \n",
      "brand=honda                                0.000328        -0.018489   \n",
      "brand=hyundai                             -0.005146        -0.005244   \n",
      "brand=jaguar                              -0.003609        -0.013462   \n",
      "brand=jeep                                -0.002416        -0.015288   \n",
      "brand=kia                                  0.001172         0.022435   \n",
      "brand=lada                                -0.000089        -0.007287   \n",
      "brand=lancia                              -0.003006         0.009787   \n",
      "brand=land_rover                          -0.000545        -0.015301   \n",
      "brand=mazda                                0.002477         0.018611   \n",
      "brand=mercedes_benz                       -0.002939        -0.005503   \n",
      "brand=mini                                -0.003286        -0.033235   \n",
      "brand=mitsubishi                          -0.000168         0.009349   \n",
      "brand=nissan                              -0.000126        -0.008238   \n",
      "brand=opel                                -0.005714         0.030480   \n",
      "...                                             ...              ...   \n",
      "model=v60                                 -0.001099        -0.004101   \n",
      "model=v70                                 -0.003893        -0.014521   \n",
      "model=v_klasse                             0.000094         0.066554   \n",
      "model=vectra                              -0.005086        -0.033787   \n",
      "model=verso                               -0.000069         0.091529   \n",
      "model=viano                               -0.003137         0.111073   \n",
      "model=vito                                 0.014559         0.134707   \n",
      "model=vivaro                               0.009366         0.083277   \n",
      "model=voyager                             -0.002529         0.087393   \n",
      "model=wrangler                            -0.000076        -0.007261   \n",
      "model=x_reihe                             -0.006932        -0.027556   \n",
      "model=x_trail                             -0.002206        -0.007743   \n",
      "model=x_type                              -0.001919        -0.007157   \n",
      "model=xc_reihe                            -0.002915        -0.010874   \n",
      "model=yaris                               -0.002592        -0.009472   \n",
      "model=yeti                                 0.000920        -0.008496   \n",
      "model=ypsilon                             -0.002001        -0.007465   \n",
      "model=z_reihe                             -0.004709        -0.017565   \n",
      "model=zafira                              -0.000453         0.257536   \n",
      "notRepairedDamage=ja                       0.018296         0.002745   \n",
      "notRepairedDamage=nein                    -0.047247         0.019582   \n",
      "notRepairedDamage=not-specified            0.043540        -0.027347   \n",
      "vehicleType=andere                         1.000000        -0.027736   \n",
      "vehicleType=bus                           -0.027736         1.000000   \n",
      "vehicleType=cabrio                        -0.023598        -0.088028   \n",
      "vehicleType=coupe                         -0.020817        -0.077656   \n",
      "vehicleType=kleinwagen                    -0.047017        -0.175390   \n",
      "vehicleType=kombi                         -0.044001        -0.164139   \n",
      "vehicleType=limousine                     -0.055603        -0.207418   \n",
      "vehicleType=suv                           -0.018636        -0.069517   \n",
      "\n",
      "                                 vehicleType=cabrio  vehicleType=coupe  \\\n",
      "price                                      0.125287           0.111991   \n",
      "yearOfRegistration                        -0.031796          -0.067202   \n",
      "powerPS                                    0.103346           0.200101   \n",
      "kilometer                                 -0.083275          -0.004597   \n",
      "monthOfRegistration                       -0.038128          -0.005042   \n",
      "brand=alfa_romeo                           0.008176           0.020812   \n",
      "brand=audi                                -0.000381           0.022497   \n",
      "brand=bmw                                  0.048817           0.089803   \n",
      "brand=chevrolet                           -0.013703           0.003187   \n",
      "brand=chrysler                             0.026997          -0.003035   \n",
      "brand=citroen                             -0.022354          -0.012334   \n",
      "brand=dacia                               -0.014207          -0.012533   \n",
      "brand=daewoo                              -0.009324          -0.006793   \n",
      "brand=daihatsu                            -0.006890          -0.010634   \n",
      "brand=fiat                                -0.002563          -0.024852   \n",
      "brand=ford                                -0.043866          -0.028102   \n",
      "brand=honda                               -0.011463           0.038647   \n",
      "brand=hyundai                             -0.028029           0.004691   \n",
      "brand=jaguar                              -0.002284           0.003921   \n",
      "brand=jeep                                -0.013226          -0.011667   \n",
      "brand=kia                                 -0.023264          -0.019397   \n",
      "brand=lada                                -0.005573          -0.005469   \n",
      "brand=lancia                              -0.006280          -0.004323   \n",
      "brand=land_rover                          -0.012720          -0.011485   \n",
      "brand=mazda                                0.064512          -0.001137   \n",
      "brand=mercedes_benz                        0.025092           0.080571   \n",
      "brand=mini                                 0.067688          -0.008355   \n",
      "brand=mitsubishi                          -0.014554          -0.008538   \n",
      "brand=nissan                              -0.021380          -0.007173   \n",
      "brand=opel                                -0.027317          -0.018440   \n",
      "...                                             ...                ...   \n",
      "model=v60                                 -0.003490          -0.003078   \n",
      "model=v70                                 -0.012355          -0.010547   \n",
      "model=v_klasse                            -0.005909          -0.005213   \n",
      "model=vectra                              -0.028812          -0.023569   \n",
      "model=verso                               -0.008677          -0.007655   \n",
      "model=viano                               -0.009958          -0.008784   \n",
      "model=vito                                -0.014034          -0.012380   \n",
      "model=vivaro                              -0.008614          -0.007599   \n",
      "model=voyager                             -0.008028          -0.007082   \n",
      "model=wrangler                            -0.006178          -0.005450   \n",
      "model=x_reihe                             -0.023569          -0.020792   \n",
      "model=x_trail                             -0.007000          -0.006175   \n",
      "model=x_type                              -0.006090          -0.004660   \n",
      "model=xc_reihe                            -0.009252          -0.008162   \n",
      "model=yaris                               -0.015393          -0.013579   \n",
      "model=yeti                                -0.007229          -0.006377   \n",
      "model=ypsilon                             -0.006351          -0.005603   \n",
      "model=z_reihe                              0.181293           0.006885   \n",
      "model=zafira                              -0.025050          -0.021924   \n",
      "notRepairedDamage=ja                      -0.038363          -0.007627   \n",
      "notRepairedDamage=nein                     0.043443           0.001721   \n",
      "notRepairedDamage=not-specified           -0.020635           0.004683   \n",
      "vehicleType=andere                        -0.023598          -0.020817   \n",
      "vehicleType=bus                           -0.088028          -0.077656   \n",
      "vehicleType=cabrio                         1.000000          -0.066071   \n",
      "vehicleType=coupe                         -0.066071           1.000000   \n",
      "vehicleType=kleinwagen                    -0.149226          -0.131643   \n",
      "vehicleType=kombi                         -0.139653          -0.123197   \n",
      "vehicleType=limousine                     -0.176475          -0.155681   \n",
      "vehicleType=suv                           -0.059147          -0.052177   \n",
      "\n",
      "                                 vehicleType=kleinwagen  vehicleType=kombi  \\\n",
      "price                                         -0.249604          -0.006032   \n",
      "yearOfRegistration                            -0.019350           0.068152   \n",
      "powerPS                                       -0.494824           0.135990   \n",
      "kilometer                                     -0.108918           0.134322   \n",
      "monthOfRegistration                           -0.013890           0.018953   \n",
      "brand=alfa_romeo                              -0.021051           0.004406   \n",
      "brand=audi                                    -0.139434           0.156072   \n",
      "brand=bmw                                     -0.189438           0.017448   \n",
      "brand=chevrolet                                0.022041          -0.024666   \n",
      "brand=chrysler                                -0.032651           0.001783   \n",
      "brand=citroen                                  0.031484          -0.021107   \n",
      "brand=dacia                                    0.006555           0.009701   \n",
      "brand=daewoo                                   0.030280          -0.009581   \n",
      "brand=daihatsu                                 0.054188          -0.019838   \n",
      "brand=fiat                                     0.152495          -0.061413   \n",
      "brand=ford                                     0.062747           0.033417   \n",
      "brand=honda                                   -0.002093          -0.034442   \n",
      "brand=hyundai                                  0.023959          -0.036054   \n",
      "brand=jaguar                                  -0.022820          -0.014735   \n",
      "brand=jeep                                    -0.026351          -0.024661   \n",
      "brand=kia                                      0.004058          -0.026463   \n",
      "brand=lada                                    -0.010455          -0.008014   \n",
      "brand=lancia                                   0.021474          -0.008820   \n",
      "brand=land_rover                              -0.025939          -0.024275   \n",
      "brand=mazda                                   -0.039939          -0.014904   \n",
      "brand=mercedes_benz                           -0.163341          -0.000232   \n",
      "brand=mini                                     0.095456          -0.040514   \n",
      "brand=mitsubishi                              -0.019759          -0.026116   \n",
      "brand=nissan                                   0.040455          -0.039790   \n",
      "brand=opel                                     0.087118          -0.002637   \n",
      "...                                                 ...                ...   \n",
      "model=v60                                     -0.006953           0.022888   \n",
      "model=v70                                     -0.024616           0.088268   \n",
      "model=v_klasse                                -0.011774          -0.011018   \n",
      "model=vectra                                  -0.057185           0.055714   \n",
      "model=verso                                   -0.017017          -0.013081   \n",
      "model=viano                                   -0.019840          -0.017340   \n",
      "model=vito                                    -0.027793          -0.012734   \n",
      "model=vivaro                                  -0.017164          -0.008969   \n",
      "model=voyager                                 -0.015995          -0.013447   \n",
      "model=wrangler                                -0.012309          -0.011520   \n",
      "model=x_reihe                                 -0.046959          -0.043008   \n",
      "model=x_trail                                 -0.013948          -0.013053   \n",
      "model=x_type                                  -0.012133           0.000279   \n",
      "model=xc_reihe                                -0.018434          -0.004832   \n",
      "model=yaris                                    0.092576          -0.027747   \n",
      "model=yeti                                    -0.014403          -0.013141   \n",
      "model=ypsilon                                  0.042560          -0.011842   \n",
      "model=z_reihe                                 -0.029776          -0.027866   \n",
      "model=zafira                                  -0.049153          -0.031473   \n",
      "notRepairedDamage=ja                           0.021720           0.018818   \n",
      "notRepairedDamage=nein                        -0.047889          -0.014100   \n",
      "notRepairedDamage=not-specified                0.041271           0.000962   \n",
      "vehicleType=andere                            -0.047017          -0.044001   \n",
      "vehicleType=bus                               -0.175390          -0.164139   \n",
      "vehicleType=cabrio                            -0.149226          -0.139653   \n",
      "vehicleType=coupe                             -0.131643          -0.123197   \n",
      "vehicleType=kleinwagen                         1.000000          -0.278250   \n",
      "vehicleType=kombi                             -0.278250           1.000000   \n",
      "vehicleType=limousine                         -0.351616          -0.329060   \n",
      "vehicleType=suv                               -0.117846          -0.110286   \n",
      "\n",
      "                                 vehicleType=limousine  vehicleType=suv  \n",
      "price                                        -0.004134         0.211958  \n",
      "yearOfRegistration                           -0.077253         0.100101  \n",
      "powerPS                                       0.131541         0.168005  \n",
      "kilometer                                     0.041318        -0.068234  \n",
      "monthOfRegistration                           0.005899         0.014250  \n",
      "brand=alfa_romeo                              0.025660        -0.017382  \n",
      "brand=audi                                    0.069274        -0.045568  \n",
      "brand=bmw                                     0.175272        -0.028549  \n",
      "brand=chevrolet                              -0.025188         0.066784  \n",
      "brand=chrysler                               -0.011371        -0.009058  \n",
      "brand=citroen                                -0.035952        -0.020994  \n",
      "brand=dacia                                  -0.019228         0.051297  \n",
      "brand=daewoo                                 -0.005253        -0.007186  \n",
      "brand=daihatsu                               -0.022268         0.004012  \n",
      "brand=fiat                                   -0.065107        -0.031354  \n",
      "brand=ford                                   -0.066581        -0.012148  \n",
      "brand=honda                                   0.022150         0.020338  \n",
      "brand=hyundai                                -0.026034         0.118269  \n",
      "brand=jaguar                                  0.046865        -0.009045  \n",
      "brand=jeep                                   -0.031163         0.222519  \n",
      "brand=kia                                    -0.019480         0.104557  \n",
      "brand=lada                                   -0.003049         0.066962  \n",
      "brand=lancia                                 -0.008584        -0.007534  \n",
      "brand=land_rover                             -0.030341         0.217526  \n",
      "brand=mazda                                   0.003194        -0.002112  \n",
      "brand=mercedes_benz                           0.095244         0.011890  \n",
      "brand=mini                                   -0.057753        -0.013428  \n",
      "brand=mitsubishi                              0.024669         0.051264  \n",
      "brand=nissan                                 -0.016783         0.078662  \n",
      "brand=opel                                   -0.048820        -0.051085  \n",
      "...                                                ...              ...  \n",
      "model=v60                                    -0.006356        -0.002756  \n",
      "model=v70                                    -0.029111        -0.009757  \n",
      "model=v_klasse                               -0.013924        -0.004667  \n",
      "model=vectra                                  0.064025        -0.022694  \n",
      "model=verso                                  -0.019444        -0.006852  \n",
      "model=viano                                  -0.023245        -0.007864  \n",
      "model=vito                                   -0.033067        -0.010741  \n",
      "model=vivaro                                 -0.019793        -0.006247  \n",
      "model=voyager                                -0.018375        -0.005146  \n",
      "model=wrangler                               -0.014557         0.103678  \n",
      "model=x_reihe                                 0.047823         0.168240  \n",
      "model=x_trail                                -0.016494         0.117669  \n",
      "model=x_type                                  0.023809        -0.004809  \n",
      "model=xc_reihe                               -0.021095         0.130514  \n",
      "model=yaris                                  -0.033300        -0.012156  \n",
      "model=yeti                                   -0.017033         0.120228  \n",
      "model=ypsilon                                -0.014965        -0.005015  \n",
      "model=z_reihe                                -0.035067        -0.011802  \n",
      "model=zafira                                 -0.057714        -0.019204  \n",
      "notRepairedDamage=ja                         -0.006098        -0.023392  \n",
      "notRepairedDamage=nein                        0.012224         0.034637  \n",
      "notRepairedDamage=not-specified              -0.010036        -0.022931  \n",
      "vehicleType=andere                           -0.055603        -0.018636  \n",
      "vehicleType=bus                              -0.207418        -0.069517  \n",
      "vehicleType=cabrio                           -0.176475        -0.059147  \n",
      "vehicleType=coupe                            -0.155681        -0.052177  \n",
      "vehicleType=kleinwagen                       -0.351616        -0.117846  \n",
      "vehicleType=kombi                            -0.329060        -0.110286  \n",
      "vehicleType=limousine                         1.000000        -0.139366  \n",
      "vehicleType=suv                              -0.139366         1.000000  \n",
      "\n",
      "[314 rows x 314 columns]\n"
     ]
    }
   ],
   "source": [
    "print (usedcars.corr())"
   ]
  },
  {
   "cell_type": "markdown",
   "metadata": {},
   "source": [
    "## Refinements"
   ]
  },
  {
   "cell_type": "markdown",
   "metadata": {},
   "source": [
    "K Neighbors optimization"
   ]
  },
  {
   "cell_type": "code",
   "execution_count": 81,
   "metadata": {
    "collapsed": false
   },
   "outputs": [
    {
     "name": "stdout",
     "output_type": "stream",
     "text": [
      "Validation: \n",
      "Standard deviation: 2589.33\n",
      "Mean absolute error: 1299.89\n",
      "R2 score: 0.86\n",
      "MAPE: 43.75\n",
      "Training: \n",
      "Standard deviation: 580.42\n",
      "Mean absolute error: 208.71\n",
      "R2 score: 0.99\n",
      "MAPE: 7.10\n"
     ]
    }
   ],
   "source": [
    "from sklearn.neighbors import KNeighborsRegressor\n",
    "reg = KNeighborsRegressor(n_neighbors=9, n_jobs=2, weights='distance')\n",
    "reg.fit(X_train, y_train)\n",
    "\n",
    "pred = reg.predict(X_valid)\n",
    "print \"Validation: \"\n",
    "# Standard deviation\n",
    "print(\"Standard deviation: %.2f\" % math.sqrt(metrics.mean_squared_error(y_valid, pred)))\n",
    "# The absolute error\n",
    "print(\"Mean absolute error: %.2f\" % metrics.mean_absolute_error(y_valid, pred))\n",
    "# R2 score\n",
    "print (\"R2 score: %.2f\" % metrics.r2_score(y_valid, pred))\n",
    "# MAPE\n",
    "print (\"MAPE: %.2f\" % mean_absolute_percentage_error(y_valid, pred))\n",
    "\n",
    "print \"Training: \"\n",
    "pred = reg.predict(X_train[0:30000])\n",
    "# Standard deviation\n",
    "print(\"Standard deviation: %.2f\" % math.sqrt(metrics.mean_squared_error(y_train[0:30000], pred)))\n",
    "# The absolute error\n",
    "print(\"Mean absolute error: %.2f\" % metrics.mean_absolute_error(y_train[0:30000], pred))\n",
    "# R2 score\n",
    "print (\"R2 score: %.2f\" % metrics.r2_score(y_train[0:30000], pred))\n",
    "# MAPE\n",
    "print (\"MAPE: %.2f\" % mean_absolute_percentage_error(y_train[0:30000], pred))"
   ]
  },
  {
   "cell_type": "markdown",
   "metadata": {},
   "source": [
    "Trying PCA decomposition to give distances more meaning."
   ]
  },
  {
   "cell_type": "code",
   "execution_count": 82,
   "metadata": {
    "collapsed": false
   },
   "outputs": [
    {
     "data": {
      "image/png": "[encoded data removed]",
      "text/plain": [
       "<matplotlib.figure.Figure at 0x115972290>"
      ]
     },
     "metadata": {},
     "output_type": "display_data"
    }
   ],
   "source": [
    "from sklearn.decomposition import TruncatedSVD, PCA\n",
    "import matplotlib.pyplot as plt\n",
    "reg = KNeighborsRegressor(n_neighbors=7, n_jobs=2, weights='distance')\n",
    "no_of_dimensions = np.arange(20)+1\n",
    "std_devs = []\n",
    "abs_errs = []\n",
    "mapes = []\n",
    "for d in no_of_dimensions:\n",
    "    # print d\n",
    "    svd = PCA(n_components=d)\n",
    "    svd.fit(X_train)\n",
    "    X_train_svd = svd.transform(X_train)\n",
    "    reg.fit(X_train_svd, y_train)\n",
    "    X_valid_svd = svd.transform(X_valid)\n",
    "    pred = reg.predict(X_valid_svd)\n",
    "    # Standard deviation\n",
    "    std_devs.append(math.sqrt(metrics.mean_squared_error(y_valid, pred)))\n",
    "    # The absolute error\n",
    "    abs_errs.append(metrics.mean_absolute_error(y_valid, pred))\n",
    "    # The mean absolute percentage error\n",
    "    mapes.append(mean_absolute_percentage_error(y_valid, pred))\n",
    "\n",
    "\n",
    "#plt.plot(no_of_dimensions, std_devs, 'g', no_of_dimensions, abs_errs, 'b', no_of_dimensions, mapes, 'r')\n",
    "plt.plot(mapes)\n",
    "plt.xlabel('Dimensions')\n",
    "plt.ylabel('MAPE')\n",
    "plt.show()"
   ]
  },
  {
   "cell_type": "markdown",
   "metadata": {},
   "source": [
    "Decition tree optimization"
   ]
  },
  {
   "cell_type": "code",
   "execution_count": 85,
   "metadata": {
    "collapsed": false
   },
   "outputs": [
    {
     "name": "stdout",
     "output_type": "stream",
     "text": [
      "Validation: \n",
      "Standard deviation: 2603.45\n",
      "Mean absolute error: 1284.60\n",
      "R2 score: 0.86\n",
      "MAPE: 40.87\n",
      "Training: \n",
      "Standard deviation: 579.55\n",
      "Mean absolute error: 208.64\n",
      "MAPE: 7.09\n"
     ]
    }
   ],
   "source": [
    "from sklearn.tree import DecisionTreeRegressor\n",
    "reg = DecisionTreeRegressor(random_state=22)\n",
    "reg.fit(X_train, y_train)\n",
    "\n",
    "pred = reg.predict(X_valid)\n",
    "print \"Validation: \"\n",
    "# Standard deviation\n",
    "print(\"Standard deviation: %.2f\" % math.sqrt(metrics.mean_squared_error(y_valid, pred)))\n",
    "# The absolute error\n",
    "print(\"Mean absolute error: %.2f\" % metrics.mean_absolute_error(y_valid, pred))\n",
    "# R2 score\n",
    "print (\"R2 score: %.2f\" % metrics.r2_score(y_valid, pred))\n",
    "# MAPE\n",
    "print (\"MAPE: %.2f\" % mean_absolute_percentage_error(y_valid, pred))\n",
    "\n",
    "print \"Training: \"\n",
    "pred = reg.predict(X_train[0:30000])\n",
    "# Standard deviation\n",
    "print(\"Standard deviation: %.2f\" % math.sqrt(metrics.mean_squared_error(y_train[0:30000], pred)))\n",
    "# The absolute error\n",
    "print(\"Mean absolute error: %.2f\" % metrics.mean_absolute_error(y_train[0:30000], pred))\n",
    "# MAPE\n",
    "print (\"MAPE: %.2f\" % mean_absolute_percentage_error(y_train[0:30000], pred))"
   ]
  },
  {
   "cell_type": "markdown",
   "metadata": {},
   "source": [
    "Random Forest"
   ]
  },
  {
   "cell_type": "code",
   "execution_count": 86,
   "metadata": {
    "collapsed": false
   },
   "outputs": [
    {
     "name": "stderr",
     "output_type": "stream",
     "text": [
      "[Parallel(n_jobs=1)]: Done  20 out of  20 | elapsed:   50.8s finished\n",
      "[Parallel(n_jobs=1)]: Done  20 out of  20 | elapsed:    0.2s finished\n",
      "[Parallel(n_jobs=1)]: Done  20 out of  20 | elapsed:   54.6s finished\n",
      "[Parallel(n_jobs=1)]: Done  20 out of  20 | elapsed:    0.2s finished\n",
      "[Parallel(n_jobs=1)]: Done  20 out of  20 | elapsed:   46.9s finished\n",
      "[Parallel(n_jobs=1)]: Done  20 out of  20 | elapsed:    0.2s finished\n",
      "[Parallel(n_jobs=1)]: Done  20 out of  20 | elapsed:   46.8s finished\n",
      "[Parallel(n_jobs=1)]: Done  20 out of  20 | elapsed:    0.2s finished\n",
      "[Parallel(n_jobs=1)]: Done  20 out of  20 | elapsed:   47.2s finished\n",
      "[Parallel(n_jobs=1)]: Done  20 out of  20 | elapsed:    0.2s finished\n",
      "[Parallel(n_jobs=1)]: Done  20 out of  20 | elapsed:   50.6s finished\n",
      "[Parallel(n_jobs=1)]: Done  20 out of  20 | elapsed:    0.2s finished\n",
      "[Parallel(n_jobs=1)]: Done  20 out of  20 | elapsed:   51.5s finished\n",
      "[Parallel(n_jobs=1)]: Done  20 out of  20 | elapsed:    0.2s finished\n",
      "[Parallel(n_jobs=1)]: Done  20 out of  20 | elapsed:   46.3s finished\n",
      "[Parallel(n_jobs=1)]: Done  20 out of  20 | elapsed:    0.2s finished\n",
      "[Parallel(n_jobs=1)]: Done  20 out of  20 | elapsed:   46.3s finished\n",
      "[Parallel(n_jobs=1)]: Done  20 out of  20 | elapsed:    0.2s finished\n",
      "[Parallel(n_jobs=1)]: Done  20 out of  20 | elapsed:   46.3s finished\n",
      "[Parallel(n_jobs=1)]: Done  20 out of  20 | elapsed:    0.2s finished\n",
      "[Parallel(n_jobs=1)]: Done  20 out of  20 | elapsed:   47.9s finished\n",
      "[Parallel(n_jobs=1)]: Done  20 out of  20 | elapsed:    0.2s finished\n",
      "[Parallel(n_jobs=1)]: Done  20 out of  20 | elapsed:   47.0s finished\n",
      "[Parallel(n_jobs=1)]: Done  20 out of  20 | elapsed:    0.2s finished\n",
      "[Parallel(n_jobs=1)]: Done  20 out of  20 | elapsed:  1.3min finished\n",
      "[Parallel(n_jobs=1)]: Done  20 out of  20 | elapsed:    0.5s finished\n",
      "[Parallel(n_jobs=1)]: Done  20 out of  20 | elapsed:  1.4min finished\n",
      "[Parallel(n_jobs=1)]: Done  20 out of  20 | elapsed:    0.6s finished\n",
      "[Parallel(n_jobs=1)]: Done  20 out of  20 | elapsed:  1.3min finished\n",
      "[Parallel(n_jobs=1)]: Done  20 out of  20 | elapsed:    0.6s finished\n",
      "[Parallel(n_jobs=1)]: Done  20 out of  20 | elapsed:  1.3min finished\n",
      "[Parallel(n_jobs=1)]: Done  20 out of  20 | elapsed:    0.6s finished\n",
      "[Parallel(n_jobs=1)]: Done  20 out of  20 | elapsed:  1.3min finished\n",
      "[Parallel(n_jobs=1)]: Done  20 out of  20 | elapsed:    0.5s finished\n",
      "[Parallel(n_jobs=1)]: Done  20 out of  20 | elapsed:  1.3min finished\n",
      "[Parallel(n_jobs=1)]: Done  20 out of  20 | elapsed:    0.5s finished\n",
      "[Parallel(n_jobs=1)]: Done  20 out of  20 | elapsed:  1.4min finished\n",
      "[Parallel(n_jobs=1)]: Done  20 out of  20 | elapsed:    0.6s finished\n",
      "[Parallel(n_jobs=1)]: Done  20 out of  20 | elapsed:  1.3min finished\n",
      "[Parallel(n_jobs=1)]: Done  20 out of  20 | elapsed:    0.5s finished\n",
      "[Parallel(n_jobs=1)]: Done  20 out of  20 | elapsed:  1.3min finished\n",
      "[Parallel(n_jobs=1)]: Done  20 out of  20 | elapsed:    0.6s finished\n",
      "[Parallel(n_jobs=1)]: Done  20 out of  20 | elapsed:  1.3min finished\n",
      "[Parallel(n_jobs=1)]: Done  20 out of  20 | elapsed:    0.5s finished\n",
      "[Parallel(n_jobs=1)]: Done  20 out of  20 | elapsed:  1.3min finished\n",
      "[Parallel(n_jobs=1)]: Done  20 out of  20 | elapsed:    0.6s finished\n",
      "[Parallel(n_jobs=1)]: Done  20 out of  20 | elapsed:  1.5min finished\n",
      "[Parallel(n_jobs=1)]: Done  20 out of  20 | elapsed:    0.6s finished\n"
     ]
    },
    {
     "name": "stdout",
     "output_type": "stream",
     "text": [
      "{'min_samples_split': 3, 'max_depth': 20, 'min_samples_leaf': 1}\n"
     ]
    },
    {
     "name": "stderr",
     "output_type": "stream",
     "text": [
      "[Parallel(n_jobs=1)]: Done  20 out of  20 | elapsed:  2.3min finished\n"
     ]
    }
   ],
   "source": [
    "from sklearn.ensemble import RandomForestRegressor\n",
    "from sklearn.grid_search import GridSearchCV\n",
    "reg = RandomForestRegressor(n_estimators=20, verbose=1)\n",
    "#param_grid = {'max_depth': [10,20]}\n",
    "param_grid = {'max_depth': [10,20],\n",
    "              'min_samples_split':[2,3],\n",
    "              'min_samples_leaf':[1,2]}\n",
    "gs_cv = GridSearchCV(reg, param_grid).fit(X_train, y_train)\n",
    "print (gs_cv.best_params_)"
   ]
  },
  {
   "cell_type": "code",
   "execution_count": 87,
   "metadata": {
    "collapsed": false
   },
   "outputs": [
    {
     "name": "stderr",
     "output_type": "stream",
     "text": [
      "[Parallel(n_jobs=1)]: Done  25 out of  25 | elapsed:  3.4min finished\n",
      "[Parallel(n_jobs=1)]: Done  25 out of  25 | elapsed:    0.9s finished\n"
     ]
    },
    {
     "name": "stdout",
     "output_type": "stream",
     "text": [
      "Validation: \n",
      "Standard deviation: 2086.03\n",
      "Mean absolute error: 1095.75\n",
      "R2 score: 0.91\n",
      "MAPE: 37.07\n",
      "Training: \n",
      "Standard deviation: 921.17\n",
      "Mean absolute error: 513.85\n",
      "R2 score: 0.98\n",
      "MAPE: 16.45\n"
     ]
    },
    {
     "name": "stderr",
     "output_type": "stream",
     "text": [
      "[Parallel(n_jobs=1)]: Done  25 out of  25 | elapsed:    0.6s finished\n"
     ]
    }
   ],
   "source": [
    "from sklearn.ensemble import RandomForestRegressor\n",
    "from sklearn.grid_search import GridSearchCV\n",
    "reg = RandomForestRegressor(n_estimators=25, verbose=1)\n",
    "reg.fit(X_train, y_train)\n",
    "\n",
    "pred = reg.predict(X_valid)\n",
    "print \"Validation: \"\n",
    "# Standard deviation\n",
    "print(\"Standard deviation: %.2f\" % math.sqrt(metrics.mean_squared_error(y_valid, pred)))\n",
    "# The absolute error\n",
    "print(\"Mean absolute error: %.2f\" % metrics.mean_absolute_error(y_valid, pred))\n",
    "# R2 score\n",
    "print (\"R2 score: %.2f\" % metrics.r2_score(y_valid, pred))\n",
    "# MAPE\n",
    "print (\"MAPE: %.2f\" % mean_absolute_percentage_error(y_valid, pred))\n",
    "\n",
    "print \"Training: \"\n",
    "pred = reg.predict(X_train[0:30000])\n",
    "# Standard deviation\n",
    "print(\"Standard deviation: %.2f\" % math.sqrt(metrics.mean_squared_error(y_train[0:30000], pred)))\n",
    "# The absolute error\n",
    "print(\"Mean absolute error: %.2f\" % metrics.mean_absolute_error(y_train[0:30000], pred))\n",
    "# R2 score\n",
    "print (\"R2 score: %.2f\" % metrics.r2_score(y_train[0:30000], pred))\n",
    "# MAPE\n",
    "print (\"MAPE: %.2f\" % mean_absolute_percentage_error(y_train[0:30000], pred))"
   ]
  },
  {
   "cell_type": "markdown",
   "metadata": {},
   "source": [
    "Ada Boost Classifier"
   ]
  },
  {
   "cell_type": "code",
   "execution_count": 37,
   "metadata": {
    "collapsed": false
   },
   "outputs": [
    {
     "name": "stdout",
     "output_type": "stream",
     "text": [
      "Validation: \n",
      "Standard deviation: 2097.52\n",
      "Mean absolute error: 1100.36\n",
      "R2 score: 0.91\n",
      "MAPE: 35.68\n",
      "Training: \n",
      "Standard deviation: 589.96\n",
      "Mean absolute error: 205.73\n",
      "R2 score: 0.99\n",
      "MAPE: 7.12\n"
     ]
    }
   ],
   "source": [
    "from sklearn.ensemble import ExtraTreesRegressor\n",
    "reg = ExtraTreesRegressor(n_estimators=20)\n",
    "reg.fit(X_train, y_train)\n",
    "\n",
    "pred = reg.predict(X_valid)\n",
    "print \"Validation: \"\n",
    "# Standard deviation\n",
    "print(\"Standard deviation: %.2f\" % math.sqrt(metrics.mean_squared_error(y_valid, pred)))\n",
    "# The absolute error\n",
    "print(\"Mean absolute error: %.2f\" % metrics.mean_absolute_error(y_valid, pred))\n",
    "# R2 score\n",
    "print (\"R2 score: %.2f\" % metrics.r2_score(y_valid, pred))\n",
    "# MAPE\n",
    "print (\"MAPE: %.2f\" % mean_absolute_percentage_error(y_valid, pred))\n",
    "\n",
    "print \"Training: \"\n",
    "pred = reg.predict(X_train[0:30000])\n",
    "# Standard deviation\n",
    "print(\"Standard deviation: %.2f\" % math.sqrt(metrics.mean_squared_error(y_train[0:30000], pred)))\n",
    "# The absolute error\n",
    "print(\"Mean absolute error: %.2f\" % metrics.mean_absolute_error(y_train[0:30000], pred))\n",
    "# R2 score\n",
    "print (\"R2 score: %.2f\" % metrics.r2_score(y_train[0:30000], pred))\n",
    "# MAPE\n",
    "print (\"MAPE: %.2f\" % mean_absolute_percentage_error(y_train[0:30000], pred))"
   ]
  },
  {
   "cell_type": "markdown",
   "metadata": {},
   "source": [
    "Multy-layer Perceptron"
   ]
  },
  {
   "cell_type": "code",
   "execution_count": 50,
   "metadata": {
    "collapsed": false
   },
   "outputs": [
    {
     "name": "stdout",
     "output_type": "stream",
     "text": [
      "Iteration 1, loss = 22413994.61153076\n",
      "Iteration 2, loss = 10029817.75382447\n",
      "Iteration 3, loss = 7249943.05848090\n",
      "Iteration 4, loss = 6797217.96884144\n",
      "Iteration 5, loss = 6614203.90780318\n",
      "Iteration 6, loss = 6519511.22234116\n",
      "Iteration 7, loss = 6468459.98477567\n",
      "Iteration 8, loss = 6439814.04890308\n",
      "Iteration 9, loss = 6422648.12367921\n",
      "Iteration 10, loss = 6413176.76466047\n",
      "Iteration 11, loss = 6405403.15810011\n",
      "Iteration 12, loss = 6401953.65831181\n",
      "Iteration 13, loss = 6397646.47340655\n",
      "Iteration 14, loss = 6396432.17991709\n",
      "Iteration 15, loss = 6393890.01152811\n",
      "Iteration 16, loss = 6389539.00741839\n",
      "Iteration 17, loss = 6388920.09341630\n",
      "Iteration 18, loss = 6389108.62423035\n",
      "Iteration 19, loss = 6385956.49251040\n",
      "Iteration 20, loss = 6385748.29229602\n",
      "Iteration 21, loss = 6383479.03846052\n",
      "Iteration 22, loss = 6383313.50173786\n",
      "Iteration 23, loss = 6383927.68433303\n",
      "Iteration 24, loss = 6384158.90891215\n",
      "Iteration 25, loss = 6381369.45141225\n",
      "Iteration 26, loss = 6380374.77964844\n",
      "Iteration 27, loss = 6381325.51961250\n",
      "Iteration 28, loss = 6378368.51853456\n",
      "Iteration 29, loss = 6379850.55291588\n",
      "Iteration 30, loss = 6378977.70812477\n",
      "Iteration 31, loss = 6378199.29204611\n",
      "Iteration 32, loss = 6377650.01117445\n",
      "Iteration 33, loss = 6378338.27834535\n",
      "Iteration 34, loss = 6376602.25260745\n",
      "Iteration 35, loss = 6377168.80127153\n",
      "Iteration 36, loss = 6377510.58355518\n",
      "Iteration 37, loss = 6375799.04450882\n",
      "Iteration 38, loss = 6375746.36086617\n",
      "Iteration 39, loss = 6375114.67298214\n",
      "Iteration 40, loss = 6375095.30400862\n",
      "Iteration 41, loss = 6376067.68986499\n",
      "Iteration 42, loss = 6374386.28223764\n",
      "Iteration 43, loss = 6374269.25603983\n",
      "Iteration 44, loss = 6374141.79595217\n",
      "Iteration 45, loss = 6376042.35783908\n",
      "Iteration 46, loss = 6373699.92934191\n",
      "Iteration 47, loss = 6372905.66121752\n",
      "Iteration 48, loss = 6374523.63591938\n",
      "Iteration 49, loss = 6374166.94131626\n",
      "Iteration 50, loss = 6374008.19371563\n",
      "Training loss did not improve more than tol=0.000100 for two consecutive epochs. Stopping.\n",
      "Validation: \n",
      "Standard deviation: 3667.81\n",
      "Mean absolute error: 2360.80\n",
      "R2 score: 0.72\n",
      "Mean absolte percentage error: 108.91\n",
      "Training: \n",
      "Standard deviation: 3529.12\n",
      "Mean absolute error: 2319.84\n",
      "R2 score: 0.74\n",
      "Mean absolte percentage error: 106.88\n"
     ]
    }
   ],
   "source": [
    "from sklearn.neural_network import MLPRegressor\n",
    "\n",
    "reg = MLPRegressor(hidden_layer_sizes = (100,32), tol = 0.0001, verbose=True, activation='relu')\n",
    "reg.fit(X_train, y_train)\n",
    "\n",
    "print \"Validation: \"\n",
    "pred = reg.predict(X_valid)\n",
    "# Standard deviation\n",
    "print(\"Standard deviation: %.2f\" % math.sqrt(metrics.mean_squared_error(y_valid, pred)))\n",
    "# The absolute error\n",
    "print(\"Mean absolute error: %.2f\" % metrics.mean_absolute_error(y_valid, pred))\n",
    "# R2 score\n",
    "print (\"R2 score: %.2f\" % metrics.r2_score(y_valid, pred))\n",
    "# The mean absolute percentage error\n",
    "print(\"Mean absolte percentage error: %.2f\" % mean_absolute_percentage_error(y_valid, pred))\n",
    "\n",
    "print \"Training: \"\n",
    "pred = reg.predict(X_train[0:30000])\n",
    "# Standard deviation\n",
    "print(\"Standard deviation: %.2f\" % math.sqrt(metrics.mean_squared_error(y_train[0:30000], pred)))\n",
    "# The absolute error\n",
    "print(\"Mean absolute error: %.2f\" % metrics.mean_absolute_error(y_train[0:30000], pred))\n",
    "# R2 score\n",
    "print (\"R2 score: %.2f\" % metrics.r2_score(y_train[0:30000], pred))\n",
    "# The mean absolute percentage error\n",
    "print(\"Mean absolte percentage error: %.2f\" % mean_absolute_percentage_error(y_train[0:30000], pred))"
   ]
  },
  {
   "cell_type": "markdown",
   "metadata": {},
   "source": [
    "### Results and demonstration"
   ]
  },
  {
   "cell_type": "markdown",
   "metadata": {},
   "source": [
    "Metrics for the test set using Random forest regressor:"
   ]
  },
  {
   "cell_type": "code",
   "execution_count": 71,
   "metadata": {
    "collapsed": false
   },
   "outputs": [
    {
     "name": "stderr",
     "output_type": "stream",
     "text": [
      "/Users/zaimmusa/.local/lib/python2.7/site-packages/sklearn/cross_validation.py:44: DeprecationWarning: This module was deprecated in version 0.18 in favor of the model_selection module into which all the refactored classes and functions are moved. Also note that the interface of the new CV iterators are different from that of this module. This module will be removed in 0.20.\n",
      "  \"This module will be removed in 0.20.\", DeprecationWarning)\n",
      "/Users/zaimmusa/.local/lib/python2.7/site-packages/sklearn/grid_search.py:43: DeprecationWarning: This module was deprecated in version 0.18 in favor of the model_selection module into which all the refactored classes and functions are moved. This module will be removed in 0.20.\n",
      "  DeprecationWarning)\n",
      "[Parallel(n_jobs=1)]: Done  25 out of  25 | elapsed:  4.9min finished\n",
      "[Parallel(n_jobs=1)]: Done  25 out of  25 | elapsed:    1.5s finished\n"
     ]
    },
    {
     "name": "stdout",
     "output_type": "stream",
     "text": [
      "Validation: \n",
      "Standard deviation: 2089.08\n",
      "Mean absolute error: 1097.83\n",
      "R2 score: 0.91\n",
      "MAPE: 36.97\n",
      "Training: \n",
      "Standard deviation: 926.08\n",
      "Mean absolute error: 514.17\n",
      "R2 score: 0.98\n",
      "MAPE: 16.48\n"
     ]
    },
    {
     "name": "stderr",
     "output_type": "stream",
     "text": [
      "[Parallel(n_jobs=1)]: Done  25 out of  25 | elapsed:    0.8s finished\n"
     ]
    }
   ],
   "source": [
    "from sklearn.ensemble import RandomForestRegressor\n",
    "from sklearn.grid_search import GridSearchCV\n",
    "reg = RandomForestRegressor(n_estimators=25, verbose=1)\n",
    "reg.fit(X_train, y_train)\n",
    "\n",
    "pred = reg.predict(X_valid)\n",
    "print \"Validation: \"\n",
    "# Standard deviation\n",
    "print(\"Standard deviation: %.2f\" % math.sqrt(metrics.mean_squared_error(y_valid, pred)))\n",
    "# The absolute error\n",
    "print(\"Mean absolute error: %.2f\" % metrics.mean_absolute_error(y_valid, pred))\n",
    "# R2 score\n",
    "print (\"R2 score: %.2f\" % metrics.r2_score(y_valid, pred))\n",
    "# MAPE\n",
    "print (\"MAPE: %.2f\" % mean_absolute_percentage_error(y_valid, pred))\n",
    "\n",
    "print \"Training: \"\n",
    "pred = reg.predict(X_train[0:30000])\n",
    "# Standard deviation\n",
    "print(\"Standard deviation: %.2f\" % math.sqrt(metrics.mean_squared_error(y_train[0:30000], pred)))\n",
    "# The absolute error\n",
    "print(\"Mean absolute error: %.2f\" % metrics.mean_absolute_error(y_train[0:30000], pred))\n",
    "# R2 score\n",
    "print (\"R2 score: %.2f\" % metrics.r2_score(y_train[0:30000], pred))\n",
    "# MAPE\n",
    "print (\"MAPE: %.2f\" % mean_absolute_percentage_error(y_train[0:30000], pred))\n"
   ]
  },
  {
   "cell_type": "code",
   "execution_count": 72,
   "metadata": {
    "collapsed": false
   },
   "outputs": [
    {
     "name": "stdout",
     "output_type": "stream",
     "text": [
      "Test: \n",
      "Standard deviation: 1129.88\n",
      "Mean absolute error: 578.64\n",
      "R2 score: 0.97\n",
      "Mean absolte percentage error: 19.29\n"
     ]
    },
    {
     "name": "stderr",
     "output_type": "stream",
     "text": [
      "[Parallel(n_jobs=1)]: Done  25 out of  25 | elapsed:    1.5s finished\n"
     ]
    }
   ],
   "source": [
    "from sklearn import metrics\n",
    "pred = reg.predict(X_test)\n",
    "print \"Test: \"\n",
    "# Standard deviation\n",
    "print(\"Standard deviation: %.2f\" % math.sqrt(metrics.mean_squared_error(y_test, pred)))\n",
    "# The absolute error\n",
    "print(\"Mean absolute error: %.2f\" % metrics.mean_absolute_error(y_test, pred))\n",
    "# R2 score\n",
    "print (\"R2 score: %.2f\" % metrics.r2_score(y_test, pred))\n",
    "# The mean absolute percentage error\n",
    "print(\"Mean absolte percentage error: %.2f\" % mean_absolute_percentage_error(y_test, pred))"
   ]
  },
  {
   "cell_type": "markdown",
   "metadata": {},
   "source": [
    "Save the regressor as pickle file."
   ]
  },
  {
   "cell_type": "code",
   "execution_count": 74,
   "metadata": {
    "collapsed": false
   },
   "outputs": [
    {
     "data": {
      "text/plain": [
       "['regressor.pkl']"
      ]
     },
     "execution_count": 74,
     "metadata": {},
     "output_type": "execute_result"
    }
   ],
   "source": [
    "import pickle\n",
    "from sklearn.externals import joblib\n",
    "joblib.dump(reg, 'regressor.pkl')"
   ]
  },
  {
   "cell_type": "markdown",
   "metadata": {},
   "source": [
    "As a demonstration:"
   ]
  },
  {
   "cell_type": "code",
   "execution_count": 97,
   "metadata": {
    "collapsed": false
   },
   "outputs": [
    {
     "name": "stdout",
     "output_type": "stream",
     "text": [
      "prediction : 8999.0\n",
      "actual price :  8999\n",
      "difference :  0.0 0.0 % )\n"
     ]
    }
   ],
   "source": [
    "#reg = joblib.load('regressor.pkl')\n",
    "index = 2121\n",
    "predX = reg.predict(X_test.iloc[index].values.reshape(1, -1))[0]\n",
    "print \"prediction :\", predX\n",
    "print \"actual price : \", y_test.iloc[index]\n",
    "print \"difference : \", (predX -  y_test.iloc[index]) , 100*(predX -  y_test.iloc[index])/y_test.iloc[index] ,\"% )\"\n",
    "#print (X_test.iloc[index])"
   ]
  }
 ],
 "metadata": {
  "anaconda-cloud": {},
  "kernelspec": {
   "display_name": "Python [conda root]",
   "language": "python",
   "name": "conda-root-py"
  },
  "language_info": {
   "codemirror_mode": {
    "name": "ipython",
    "version": 2
   },
   "file_extension": ".py",
   "mimetype": "text/x-python",
   "name": "python",
   "nbconvert_exporter": "python",
   "pygments_lexer": "ipython2",
   "version": "2.7.12"
  }
 },
 "nbformat": 4,
 "nbformat_minor": 0
}

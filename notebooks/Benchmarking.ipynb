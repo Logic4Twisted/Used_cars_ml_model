{
 "cells": [
  {
   "cell_type": "code",
   "execution_count": 1,
   "metadata": {
    "collapsed": false
   },
   "outputs": [],
   "source": [
    "import numpy as np # linear algebra\n",
    "import pandas as pd # data processing, CSV file I/O (e.g. pd.read_csv)\n",
    "import matplotlib.pylab as plt\n",
    "% matplotlib inline"
   ]
  },
  {
   "cell_type": "markdown",
   "metadata": {},
   "source": [
    "Read autos.csv into data, and display sample."
   ]
  },
  {
   "cell_type": "code",
   "execution_count": null,
   "metadata": {
    "collapsed": false,
    "scrolled": true
   },
   "outputs": [],
   "source": [
    "data=pd.read_csv('../input/autos.csv', encoding='latin_1')\n",
    "data.head()"
   ]
  },
  {
   "cell_type": "markdown",
   "metadata": {},
   "source": [
    "Let's check for null values in rows."
   ]
  },
  {
   "cell_type": "code",
   "execution_count": 3,
   "metadata": {
    "collapsed": false
   },
   "outputs": [
    {
     "data": {
      "text/plain": [
       "dateCrawled                0\n",
       "name                       0\n",
       "seller                     0\n",
       "offerType                  0\n",
       "price                      0\n",
       "abtest                     0\n",
       "vehicleType            37869\n",
       "yearOfRegistration         0\n",
       "gearbox                20209\n",
       "powerPS                    0\n",
       "model                  20484\n",
       "kilometer                  0\n",
       "monthOfRegistration        0\n",
       "fuelType               33386\n",
       "brand                      0\n",
       "notRepairedDamage      72060\n",
       "dateCreated                0\n",
       "nrOfPictures               0\n",
       "postalCode                 0\n",
       "lastSeen                   0\n",
       "dtype: int64"
      ]
     },
     "execution_count": 3,
     "metadata": {},
     "output_type": "execute_result"
    }
   ],
   "source": [
    "data.isnull().sum()"
   ]
  },
  {
   "cell_type": "code",
   "execution_count": 4,
   "metadata": {
    "collapsed": false
   },
   "outputs": [],
   "source": [
    "data['vehicleType'].fillna('none', inplace=True)\n",
    "data['model'].fillna('none', inplace=True)\n",
    "data['gearbox'].fillna('none',inplace=True)\n",
    "data['fuelType'].fillna('none',inplace=True)\n",
    "data['notRepairedDamage'].fillna('none',inplace=True)"
   ]
  },
  {
   "cell_type": "code",
   "execution_count": 5,
   "metadata": {
    "collapsed": false
   },
   "outputs": [],
   "source": [
    "usedcars = data[(data.vehicleType != 'none') & (data.vehicleType != 'andere')]\n",
    "usedcars = usedcars[(usedcars.price >= 100) & (usedcars.price <=160000) & (usedcars.yearOfRegistration >=1950) & (usedcars.yearOfRegistration <=2016) & (usedcars.powerPS >=10) & (usedcars.powerPS<=500)]\n",
    "# if these strings are found in the name of an ad, set them as brands\n",
    "brands = ['Lexus', 'Ferrari', 'Dodge', 'Cadillac', 'MG', 'Lotus', 'Iveco', 'Ssangyong', 'Pontiac', 'Wartburg']\n",
    "\n",
    "for b in brands:\n",
    "    usedcars.loc[(usedcars.brand == 'sonstige_autos') & (usedcars.name.str.contains(b, case='False')), 'brand'] = b.lower()\n",
    "\n",
    "usedcars = usedcars[(usedcars.brand != 'sonstige_autos') & (usedcars.model != 'none')]"
   ]
  },
  {
   "cell_type": "code",
   "execution_count": 6,
   "metadata": {
    "collapsed": false
   },
   "outputs": [
    {
     "data": {
      "text/html": [
       "<div>\n",
       "<table border=\"1\" class=\"dataframe\">\n",
       "  <thead>\n",
       "    <tr style=\"text-align: right;\">\n",
       "      <th></th>\n",
       "      <th>dateCrawled</th>\n",
       "      <th>name</th>\n",
       "      <th>seller</th>\n",
       "      <th>offerType</th>\n",
       "      <th>price</th>\n",
       "      <th>abtest</th>\n",
       "      <th>vehicleType</th>\n",
       "      <th>yearOfRegistration</th>\n",
       "      <th>gearbox</th>\n",
       "      <th>powerPS</th>\n",
       "      <th>model</th>\n",
       "      <th>kilometer</th>\n",
       "      <th>monthOfRegistration</th>\n",
       "      <th>fuelType</th>\n",
       "      <th>brand</th>\n",
       "      <th>notRepairedDamage</th>\n",
       "      <th>dateCreated</th>\n",
       "      <th>nrOfPictures</th>\n",
       "      <th>postalCode</th>\n",
       "      <th>lastSeen</th>\n",
       "    </tr>\n",
       "  </thead>\n",
       "  <tbody>\n",
       "    <tr>\n",
       "      <th>1254</th>\n",
       "      <td>2016-04-03 10:51:38</td>\n",
       "      <td>Peugeot_Partner_Tepee_BlueHDi_100_Stop&amp;Start_E...</td>\n",
       "      <td>privat</td>\n",
       "      <td>Angebot</td>\n",
       "      <td>17800</td>\n",
       "      <td>control</td>\n",
       "      <td>bus</td>\n",
       "      <td>2016</td>\n",
       "      <td>manuell</td>\n",
       "      <td>99</td>\n",
       "      <td>andere</td>\n",
       "      <td>5000</td>\n",
       "      <td>1</td>\n",
       "      <td>diesel</td>\n",
       "      <td>peugeot</td>\n",
       "      <td>nein</td>\n",
       "      <td>2016-04-03 00:00:00</td>\n",
       "      <td>0</td>\n",
       "      <td>10551</td>\n",
       "      <td>2016-04-07 11:46:25</td>\n",
       "    </tr>\n",
       "    <tr>\n",
       "      <th>2080</th>\n",
       "      <td>2016-03-19 17:43:51</td>\n",
       "      <td>Nissan_Micra_1.2_Acenta</td>\n",
       "      <td>privat</td>\n",
       "      <td>Angebot</td>\n",
       "      <td>10490</td>\n",
       "      <td>control</td>\n",
       "      <td>kleinwagen</td>\n",
       "      <td>2016</td>\n",
       "      <td>manuell</td>\n",
       "      <td>80</td>\n",
       "      <td>micra</td>\n",
       "      <td>5000</td>\n",
       "      <td>3</td>\n",
       "      <td>benzin</td>\n",
       "      <td>nissan</td>\n",
       "      <td>nein</td>\n",
       "      <td>2016-03-19 00:00:00</td>\n",
       "      <td>0</td>\n",
       "      <td>41334</td>\n",
       "      <td>2016-03-30 13:16:59</td>\n",
       "    </tr>\n",
       "    <tr>\n",
       "      <th>3443</th>\n",
       "      <td>2016-04-05 10:49:54</td>\n",
       "      <td>Land_Rover_Defender_90_DPF_Station_Wagon_Heritage</td>\n",
       "      <td>privat</td>\n",
       "      <td>Angebot</td>\n",
       "      <td>59900</td>\n",
       "      <td>control</td>\n",
       "      <td>suv</td>\n",
       "      <td>2016</td>\n",
       "      <td>manuell</td>\n",
       "      <td>122</td>\n",
       "      <td>defender</td>\n",
       "      <td>5000</td>\n",
       "      <td>2</td>\n",
       "      <td>diesel</td>\n",
       "      <td>land_rover</td>\n",
       "      <td>nein</td>\n",
       "      <td>2016-04-05 00:00:00</td>\n",
       "      <td>0</td>\n",
       "      <td>21220</td>\n",
       "      <td>2016-04-07 14:56:12</td>\n",
       "    </tr>\n",
       "    <tr>\n",
       "      <th>3966</th>\n",
       "      <td>2016-04-04 22:42:14</td>\n",
       "      <td>Mazda_MX_5_SKYACTIV_G_160_i_ELOOP_Sports_Line</td>\n",
       "      <td>privat</td>\n",
       "      <td>Angebot</td>\n",
       "      <td>27000</td>\n",
       "      <td>test</td>\n",
       "      <td>cabrio</td>\n",
       "      <td>2016</td>\n",
       "      <td>manuell</td>\n",
       "      <td>160</td>\n",
       "      <td>mx_reihe</td>\n",
       "      <td>5000</td>\n",
       "      <td>2</td>\n",
       "      <td>benzin</td>\n",
       "      <td>mazda</td>\n",
       "      <td>nein</td>\n",
       "      <td>2016-04-04 00:00:00</td>\n",
       "      <td>0</td>\n",
       "      <td>29471</td>\n",
       "      <td>2016-04-07 01:16:37</td>\n",
       "    </tr>\n",
       "    <tr>\n",
       "      <th>6888</th>\n",
       "      <td>2016-04-01 16:39:10</td>\n",
       "      <td>Volkswagen_Golf_GTD_DSG_Kamera+Panorama+Fahras...</td>\n",
       "      <td>privat</td>\n",
       "      <td>Angebot</td>\n",
       "      <td>29950</td>\n",
       "      <td>control</td>\n",
       "      <td>limousine</td>\n",
       "      <td>2016</td>\n",
       "      <td>automatik</td>\n",
       "      <td>184</td>\n",
       "      <td>golf</td>\n",
       "      <td>5000</td>\n",
       "      <td>2</td>\n",
       "      <td>diesel</td>\n",
       "      <td>volkswagen</td>\n",
       "      <td>nein</td>\n",
       "      <td>2016-04-01 00:00:00</td>\n",
       "      <td>0</td>\n",
       "      <td>64380</td>\n",
       "      <td>2016-04-05 11:18:49</td>\n",
       "    </tr>\n",
       "  </tbody>\n",
       "</table>\n",
       "</div>"
      ],
      "text/plain": [
       "              dateCrawled                                               name  \\\n",
       "1254  2016-04-03 10:51:38  Peugeot_Partner_Tepee_BlueHDi_100_Stop&Start_E...   \n",
       "2080  2016-03-19 17:43:51                            Nissan_Micra_1.2_Acenta   \n",
       "3443  2016-04-05 10:49:54  Land_Rover_Defender_90_DPF_Station_Wagon_Heritage   \n",
       "3966  2016-04-04 22:42:14      Mazda_MX_5_SKYACTIV_G_160_i_ELOOP_Sports_Line   \n",
       "6888  2016-04-01 16:39:10  Volkswagen_Golf_GTD_DSG_Kamera+Panorama+Fahras...   \n",
       "\n",
       "      seller offerType  price   abtest vehicleType  yearOfRegistration  \\\n",
       "1254  privat   Angebot  17800  control         bus                2016   \n",
       "2080  privat   Angebot  10490  control  kleinwagen                2016   \n",
       "3443  privat   Angebot  59900  control         suv                2016   \n",
       "3966  privat   Angebot  27000     test      cabrio                2016   \n",
       "6888  privat   Angebot  29950  control   limousine                2016   \n",
       "\n",
       "        gearbox  powerPS     model  kilometer  monthOfRegistration fuelType  \\\n",
       "1254    manuell       99    andere       5000                    1   diesel   \n",
       "2080    manuell       80     micra       5000                    3   benzin   \n",
       "3443    manuell      122  defender       5000                    2   diesel   \n",
       "3966    manuell      160  mx_reihe       5000                    2   benzin   \n",
       "6888  automatik      184      golf       5000                    2   diesel   \n",
       "\n",
       "           brand notRepairedDamage          dateCreated  nrOfPictures  \\\n",
       "1254     peugeot              nein  2016-04-03 00:00:00             0   \n",
       "2080      nissan              nein  2016-03-19 00:00:00             0   \n",
       "3443  land_rover              nein  2016-04-05 00:00:00             0   \n",
       "3966       mazda              nein  2016-04-04 00:00:00             0   \n",
       "6888  volkswagen              nein  2016-04-01 00:00:00             0   \n",
       "\n",
       "      postalCode             lastSeen  \n",
       "1254       10551  2016-04-07 11:46:25  \n",
       "2080       41334  2016-03-30 13:16:59  \n",
       "3443       21220  2016-04-07 14:56:12  \n",
       "3966       29471  2016-04-07 01:16:37  \n",
       "6888       64380  2016-04-05 11:18:49  "
      ]
     },
     "execution_count": 6,
     "metadata": {},
     "output_type": "execute_result"
    }
   ],
   "source": [
    "# since data set is taken in 2016 set this year as current when calculating depriciation\n",
    "current_year = 2016\n",
    "\n",
    "newcars = usedcars[(usedcars.kilometer <= 10000) & (usedcars.yearOfRegistration == current_year) & (usedcars.powerPS > 0) & (usedcars.fuelType != 'none') & (usedcars.notRepairedDamage != 'ja') & (usedcars.vehicleType != 'none') & (usedcars.gearbox != 'none') & (usedcars.price >= 5000)]\n",
    "newcars.head()"
   ]
  },
  {
   "cell_type": "markdown",
   "metadata": {},
   "source": [
    "Lets determine the prices of new vehicles. If price of new car for type and brand of a vehicle are available, average over that data. If no such data is available, average over all brands."
   ]
  },
  {
   "cell_type": "code",
   "execution_count": 47,
   "metadata": {
    "collapsed": false
   },
   "outputs": [],
   "source": [
    "import math\n",
    "\n",
    "# dataset is created in 2016\n",
    "current_year = 2016\n",
    "\n",
    "# calculate average price of a new car by vehicle type\n",
    "def price_by_vehicle_type(c):\n",
    "    return {t: np.mean(c[(c.vehicleType == t) & (c.yearOfRegistration == current_year)].price) for t in c.vehicleType.unique()}\n",
    "\n",
    "# calculate average price of a new car by vehicle type and brand\n",
    "def price_by_vehicle_type_and_brand(c):\n",
    "    d = {}\n",
    "    for t in c.vehicleType.unique():\n",
    "        for b in c[c.vehicleType == t].brand.unique():\n",
    "            if c[(c.vehicleType == t) & (c.yearOfRegistration == current_year) & (c.brand == b)].shape[0] > 0:\n",
    "                d[(t, b)] = np.mean(c[(c.vehicleType == t) & (c.yearOfRegistration == current_year) & (c.brand == b)].price)\n",
    "    return d       \n",
    "\n",
    "price_vt = price_by_vehicle_type(newcars)\n",
    "price_vt_b = price_by_vehicle_type_and_brand(newcars)\n",
    "\n",
    "# try to find average price of a new car by its type and brand\n",
    "# if there is no such data find average price of this type of a car\n",
    "def price_of_new_car(vehicle_type, brand):\n",
    "    if (vehicle_type, brand) in price_vt_b:\n",
    "        return price_vt_b[(vehicle_type, brand)]\n",
    "    return price_vt[vehicle_type]\n",
    "\n",
    "\n",
    "def depreciation(years, depr_dict):\n",
    "    return depr_dict[years]\n",
    "\n",
    "# benchmark based on vehicle type, brand, year of registration and depriciation schedule\n",
    "def evaluate(vehicle_type, brand, registration_year, depreciation_dict):\n",
    "    return price_of_new_car(vehicle_type, brand)*depreciation(current_year - registration_year, depreciation_dict)\n",
    "    "
   ]
  },
  {
   "cell_type": "markdown",
   "metadata": {},
   "source": [
    "Lets display some of the new car prices by type."
   ]
  },
  {
   "cell_type": "code",
   "execution_count": 41,
   "metadata": {
    "collapsed": false
   },
   "outputs": [
    {
     "data": {
      "text/html": [
       "<div>\n",
       "<table border=\"1\" class=\"dataframe\">\n",
       "  <thead>\n",
       "    <tr style=\"text-align: right;\">\n",
       "      <th></th>\n",
       "      <th>New car price</th>\n",
       "    </tr>\n",
       "  </thead>\n",
       "  <tbody>\n",
       "    <tr>\n",
       "      <th>coupe</th>\n",
       "      <td>58755.000000</td>\n",
       "    </tr>\n",
       "    <tr>\n",
       "      <th>bus</th>\n",
       "      <td>34844.259259</td>\n",
       "    </tr>\n",
       "    <tr>\n",
       "      <th>cabrio</th>\n",
       "      <td>62893.875000</td>\n",
       "    </tr>\n",
       "    <tr>\n",
       "      <th>kleinwagen</th>\n",
       "      <td>14880.139241</td>\n",
       "    </tr>\n",
       "    <tr>\n",
       "      <th>suv</th>\n",
       "      <td>41128.600000</td>\n",
       "    </tr>\n",
       "    <tr>\n",
       "      <th>limousine</th>\n",
       "      <td>28727.641509</td>\n",
       "    </tr>\n",
       "    <tr>\n",
       "      <th>kombi</th>\n",
       "      <td>31448.724138</td>\n",
       "    </tr>\n",
       "  </tbody>\n",
       "</table>\n",
       "</div>"
      ],
      "text/plain": [
       "            New car price\n",
       "coupe        58755.000000\n",
       "bus          34844.259259\n",
       "cabrio       62893.875000\n",
       "kleinwagen   14880.139241\n",
       "suv          41128.600000\n",
       "limousine    28727.641509\n",
       "kombi        31448.724138"
      ]
     },
     "execution_count": 41,
     "metadata": {},
     "output_type": "execute_result"
    }
   ],
   "source": [
    "dataFrame_C = pd.DataFrame.from_dict(price_vt, orient=\"index\")\n",
    "dataFrame_C.columns = ['New car price']\n",
    "dataFrame_C.head(10)"
   ]
  },
  {
   "cell_type": "markdown",
   "metadata": {},
   "source": [
    "Lets display some of the new car prices by type and brand."
   ]
  },
  {
   "cell_type": "code",
   "execution_count": 9,
   "metadata": {
    "collapsed": false
   },
   "outputs": [
    {
     "data": {
      "text/html": [
       "<div>\n",
       "<table border=\"1\" class=\"dataframe\">\n",
       "  <thead>\n",
       "    <tr style=\"text-align: right;\">\n",
       "      <th></th>\n",
       "      <th>New car price</th>\n",
       "    </tr>\n",
       "  </thead>\n",
       "  <tbody>\n",
       "    <tr>\n",
       "      <th>(limousine, bmw)</th>\n",
       "      <td>39168.000000</td>\n",
       "    </tr>\n",
       "    <tr>\n",
       "      <th>(coupe, audi)</th>\n",
       "      <td>43000.000000</td>\n",
       "    </tr>\n",
       "    <tr>\n",
       "      <th>(limousine, opel)</th>\n",
       "      <td>12499.000000</td>\n",
       "    </tr>\n",
       "    <tr>\n",
       "      <th>(kombi, dacia)</th>\n",
       "      <td>13000.000000</td>\n",
       "    </tr>\n",
       "    <tr>\n",
       "      <th>(suv, nissan)</th>\n",
       "      <td>27888.666667</td>\n",
       "    </tr>\n",
       "  </tbody>\n",
       "</table>\n",
       "</div>"
      ],
      "text/plain": [
       "                   New car price\n",
       "(limousine, bmw)    39168.000000\n",
       "(coupe, audi)       43000.000000\n",
       "(limousine, opel)   12499.000000\n",
       "(kombi, dacia)      13000.000000\n",
       "(suv, nissan)       27888.666667"
      ]
     },
     "execution_count": 9,
     "metadata": {},
     "output_type": "execute_result"
    }
   ],
   "source": [
    "dataFrame_C = pd.DataFrame.from_dict(price_vt_b, orient=\"index\")\n",
    "dataFrame_C.columns = ['New car price']\n",
    "dataFrame_C.head()"
   ]
  },
  {
   "cell_type": "markdown",
   "metadata": {},
   "source": [
    "This cell creates dictionary that maps years of usage to depreciations given depreciation rate "
   ]
  },
  {
   "cell_type": "code",
   "execution_count": 65,
   "metadata": {
    "collapsed": false
   },
   "outputs": [],
   "source": [
    "rate = 0.18\n",
    "depr_dict = {i: math.pow(1.0-rate, i) for i in range(0,100,1)}"
   ]
  },
  {
   "cell_type": "markdown",
   "metadata": {},
   "source": [
    "This cell creates dictinary that maps years of usage to average depreciation, calculated from data."
   ]
  },
  {
   "cell_type": "code",
   "execution_count": 68,
   "metadata": {
    "collapsed": false
   },
   "outputs": [],
   "source": [
    "# calculate depriciation given years since registration\n",
    "def avg_depreciation(years):\n",
    "    year2cars = usedcars[usedcars.yearOfRegistration == current_year-years]\n",
    "    return np.mean([year2cars.loc[i].price/price_of_new_car(year2cars.loc[i]['vehicleType'], year2cars.loc[i]['brand']) for i in year2cars.index.values])\n",
    "\n",
    "avg_depriciation_dict = {i : avg_depreciation(i) for i in range(1,21,1)}\n",
    "for i in range(0,100,1):\n",
    "    if i not in avg_depriciation_dict:\n",
    "        avg_depriciation_dict[i] = math.pow(1-0.15, i)\n",
    "depr_dict = avg_depriciation_dict"
   ]
  },
  {
   "cell_type": "markdown",
   "metadata": {},
   "source": [
    "And finally, lets calculate absolute and square root error for usedcars."
   ]
  },
  {
   "cell_type": "code",
   "execution_count": 69,
   "metadata": {
    "collapsed": false
   },
   "outputs": [
    {
     "name": "stdout",
     "output_type": "stream",
     "text": [
      "Square error: 5723.83\n",
      "Absolute error: 2891.77\n",
      "Percentage error: 75.20\n"
     ]
    }
   ],
   "source": [
    "abs_error = [math.fabs(evaluate(usedcars.loc[i]['vehicleType'], usedcars.loc[i]['brand'], usedcars.loc[i]['yearOfRegistration'], depr_dict) - usedcars.loc[i]['price'])  for i in usedcars.index.values]\n",
    "abs_per_error = [math.fabs(evaluate(usedcars.loc[i]['vehicleType'], usedcars.loc[i]['brand'], usedcars.loc[i]['yearOfRegistration'], depr_dict) - usedcars.loc[i]['price'])/usedcars.loc[i]['price']  for i in usedcars.index.values]\n",
    "sqr_error = [math.pow(evaluate(usedcars.loc[i]['vehicleType'], usedcars.loc[i]['brand'], usedcars.loc[i]['yearOfRegistration'], depr_dict) - usedcars.loc[i]['price'], 2)  for i in usedcars.index.values]\n",
    "print (\"Square error: %.2f\" % np.sqrt(np.mean(sqr_error)))\n",
    "print (\"Absolute error: %.2f\" % np.mean(abs_error))\n",
    "print (\"Percentage error: %.2f\" % (np.mean(abs_per_error)*100))"
   ]
  },
  {
   "cell_type": "markdown",
   "metadata": {},
   "source": [
    "Let's display some cars and their estimated prices."
   ]
  },
  {
   "cell_type": "code",
   "execution_count": 27,
   "metadata": {
    "collapsed": false
   },
   "outputs": [
    {
     "name": "stdout",
     "output_type": "stream",
     "text": [
      "New car price: 14880.14\n",
      "depreciation 10.94 %\n",
      "Price : 1499\n",
      "Evaluation : 1627.55908472\n"
     ]
    },
    {
     "data": {
      "text/plain": [
       "dateCrawled                                        2016-03-08 19:58:07\n",
       "name                   A_210_Evolution_AMG_Styling_absoluter_Festpreis\n",
       "seller                                                          privat\n",
       "offerType                                                      Angebot\n",
       "price                                                             1499\n",
       "abtest                                                            test\n",
       "vehicleType                                                 kleinwagen\n",
       "yearOfRegistration                                                2002\n",
       "gearbox                                                        manuell\n",
       "powerPS                                                            140\n",
       "model                                                         a_klasse\n",
       "kilometer                                                       150000\n",
       "monthOfRegistration                                                 10\n",
       "fuelType                                                          none\n",
       "brand                                                    mercedes_benz\n",
       "notRepairedDamage                                                 nein\n",
       "dateCreated                                        2016-03-08 00:00:00\n",
       "nrOfPictures                                                         0\n",
       "postalCode                                                       16727\n",
       "lastSeen                                           2016-03-10 17:44:36\n",
       "Name: 164, dtype: object"
      ]
     },
     "execution_count": 27,
     "metadata": {},
     "output_type": "execute_result"
    }
   ],
   "source": [
    "ind = usedcars.index.values[116]\n",
    "print (\"New car price: %.2f\" % price_of_new_car(usedcars.loc[ind].vehicleType, usedcars.loc[ind].brand))\n",
    "print (\"Depreciation %.2f\" % (depreciation(current_year - usedcars.loc[ind].yearOfRegistration)*100), \"%\")\n",
    "print (\"Price :\", usedcars.loc[ind].price)\n",
    "print (\"Evaluation :\", evaluate(usedcars.loc[ind].vehicleType, usedcars.loc[ind].brand ,usedcars.loc[ind].yearOfRegistration))\n",
    "usedcars.loc[ind]"
   ]
  },
  {
   "cell_type": "markdown",
   "metadata": {},
   "source": [
    "Average depreciation of used cars by year"
   ]
  },
  {
   "cell_type": "code",
   "execution_count": 36,
   "metadata": {
    "collapsed": false
   },
   "outputs": [
    {
     "data": {
      "image/png": "[encoded data removed]",
      "text/plain": [
       "<matplotlib.figure.Figure at 0x1133b0208>"
      ]
     },
     "metadata": {},
     "output_type": "display_data"
    }
   ],
   "source": [
    "plt.bar(range(len(depreciation_dict)), depreciation_dict.values(), align='center')\n",
    "plt.xticks(range(len(depreciation_dict)), list(depreciation_dict.keys()))\n",
    "plt.ylim(0.0, 1.0)\n",
    "plt.xlim(-1, 20)\n",
    "plt.ylabel(\"Depriciation\")\n",
    "plt.xlabel(\"Years since first Registration\")\n",
    "plt.show()"
   ]
  },
  {
   "cell_type": "code",
   "execution_count": 70,
   "metadata": {
    "collapsed": false
   },
   "outputs": [
    {
     "name": "stdout",
     "output_type": "stream",
     "text": [
      "There are  272  new cars in the data set\n"
     ]
    }
   ],
   "source": [
    "print (\"There are \", newcars.shape[0], \" new cars in the data set\")"
   ]
  }
 ],
 "metadata": {
  "kernelspec": {
   "display_name": "Python [conda env:opencv]",
   "language": "python",
   "name": "conda-env-opencv-py"
  },
  "language_info": {
   "codemirror_mode": {
    "name": "ipython",
    "version": 3
   },
   "file_extension": ".py",
   "mimetype": "text/x-python",
   "name": "python",
   "nbconvert_exporter": "python",
   "pygments_lexer": "ipython3",
   "version": "3.5.2"
  }
 },
 "nbformat": 4,
 "nbformat_minor": 2
}
